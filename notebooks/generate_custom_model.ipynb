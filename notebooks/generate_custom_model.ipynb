{
 "cells": [
  {
   "cell_type": "code",
   "execution_count": 1,
   "metadata": {},
   "outputs": [
    {
     "name": "stderr",
     "output_type": "stream",
     "text": [
      "/Users/nnguyen/Documents/Research/SusanLiao/interpretable-splicing-visualization/myenv/lib/python3.10/site-packages/tqdm/auto.py:21: TqdmWarning: IProgress not found. Please update jupyter and ipywidgets. See https://ipywidgets.readthedocs.io/en/stable/user_install.html\n",
      "  from .autonotebook import tqdm as notebook_tqdm\n"
     ]
    }
   ],
   "source": [
    "%load_ext autoreload\n",
    "%autoreload 2\n",
    "\n",
    "import sys\n",
    "sys.path.append(\"../\")\n",
    "import os\n",
    "os.chdir(\"..\")\n",
    "import numpy as np\n",
    "import pandas as pd\n",
    "import scipy.stats as stats\n",
    "from tqdm import tqdm\n",
    "from tensorflow.keras.models import load_model, Model\n",
    "import src.quad_model\n",
    "from src.figutils import add_flanking, create_input_data\n",
    "from src.vis_data import get_vis_data\n",
    "from joblib import load\n",
    "from json import dump\n",
    "from src.generate_custom_model import generate_custom_model\n",
    "\n",
    "pd.set_option('mode.chained_assignment', None)"
   ]
  },
  {
   "cell_type": "code",
   "execution_count": 2,
   "metadata": {},
   "outputs": [],
   "source": [
    "def r2_score(y_true, y_pred):\n",
    "    slope, intercept, r_value, p_value, std_err = stats.linregress(y_pred, y_true)\n",
    "    return r_value"
   ]
  },
  {
   "cell_type": "code",
   "execution_count": 3,
   "metadata": {},
   "outputs": [],
   "source": [
    "model_keras = load_model('model/custom_adjacency_regularizer_20210731_124_step3.h5')"
   ]
  },
  {
   "cell_type": "markdown",
   "metadata": {},
   "source": [
    "# Ke et al. & Baeza et al\n",
    "\n",
    "Code reference: \n",
    "- [regev-lab/splicing_library_analysis/2023_05_08_revision\n",
    "/analyze_ke_et_al_for_cnnc.ipynb](https://github.com/regev-lab/splicing_library_analysis/blob/e17c9ff422b0a2270358cf347511253d045228e8/2023_05_08_revision/analyze_ke_et_al_for_cnnc.ipynb#L277)\n",
    "- [regev-lab/splicing_library_analysis/2023_05_08_revision\n",
    "/analyze_baeza_et_al_for_cnnc.ipynb](https://github.com/regev-lab/splicing_library_analysis/blob/e17c9ff422b0a2270358cf347511253d045228e8/2023_05_08_revision/analyze_baeza_et_al_for_cnnc.ipynb)"
   ]
  },
  {
   "cell_type": "code",
   "execution_count": 4,
   "metadata": {},
   "outputs": [
    {
     "data": {
      "text/html": [
       "<div>\n",
       "<style scoped>\n",
       "    .dataframe tbody tr th:only-of-type {\n",
       "        vertical-align: middle;\n",
       "    }\n",
       "\n",
       "    .dataframe tbody tr th {\n",
       "        vertical-align: top;\n",
       "    }\n",
       "\n",
       "    .dataframe thead th {\n",
       "        text-align: right;\n",
       "    }\n",
       "</style>\n",
       "<table border=\"1\" class=\"dataframe\">\n",
       "  <thead>\n",
       "    <tr style=\"text-align: right;\">\n",
       "      <th></th>\n",
       "      <th>exon</th>\n",
       "      <th>sequence</th>\n",
       "      <th>PSI</th>\n",
       "    </tr>\n",
       "  </thead>\n",
       "  <tbody>\n",
       "    <tr>\n",
       "      <th>0</th>\n",
       "      <td>AGTTGCTGCTGGGAGCTCCAGCACAGTGAAATGGACAGAAGGGCAG...</td>\n",
       "      <td>TTTCTAGAGTTGCTGCTGGGAGCTCCAGCACAGTGAAATGGACAGA...</td>\n",
       "      <td>0.055445</td>\n",
       "    </tr>\n",
       "    <tr>\n",
       "      <th>1</th>\n",
       "      <td>AAATGCTGCTGGGAGCTCCAGCACAGTGAAATGGACAGAAGGGCAG...</td>\n",
       "      <td>TTTCTAGAAATGCTGCTGGGAGCTCCAGCACAGTGAAATGGACAGA...</td>\n",
       "      <td>0.029533</td>\n",
       "    </tr>\n",
       "    <tr>\n",
       "      <th>2</th>\n",
       "      <td>AACTGCTGCTGGGAGCTCCAGCACAGTGAAATGGACAGAAGGGCAG...</td>\n",
       "      <td>TTTCTAGAACTGCTGCTGGGAGCTCCAGCACAGTGAAATGGACAGA...</td>\n",
       "      <td>0.022148</td>\n",
       "    </tr>\n",
       "    <tr>\n",
       "      <th>3</th>\n",
       "      <td>AAGTGCTGCTGGGAGCTCCAGCACAGTGAAATGGACAGAAGGGCAG...</td>\n",
       "      <td>TTTCTAGAAGTGCTGCTGGGAGCTCCAGCACAGTGAAATGGACAGA...</td>\n",
       "      <td>0.027447</td>\n",
       "    </tr>\n",
       "    <tr>\n",
       "      <th>4</th>\n",
       "      <td>AATTGCTGCTGGGAGCTCCAGCACAGTGAAATGGACAGAAGGGCAG...</td>\n",
       "      <td>TTTCTAGAATTGCTGCTGGGAGCTCCAGCACAGTGAAATGGACAGA...</td>\n",
       "      <td>0.099695</td>\n",
       "    </tr>\n",
       "  </tbody>\n",
       "</table>\n",
       "</div>"
      ],
      "text/plain": [
       "                                                exon  \\\n",
       "0  AGTTGCTGCTGGGAGCTCCAGCACAGTGAAATGGACAGAAGGGCAG...   \n",
       "1  AAATGCTGCTGGGAGCTCCAGCACAGTGAAATGGACAGAAGGGCAG...   \n",
       "2  AACTGCTGCTGGGAGCTCCAGCACAGTGAAATGGACAGAAGGGCAG...   \n",
       "3  AAGTGCTGCTGGGAGCTCCAGCACAGTGAAATGGACAGAAGGGCAG...   \n",
       "4  AATTGCTGCTGGGAGCTCCAGCACAGTGAAATGGACAGAAGGGCAG...   \n",
       "\n",
       "                                            sequence       PSI  \n",
       "0  TTTCTAGAGTTGCTGCTGGGAGCTCCAGCACAGTGAAATGGACAGA...  0.055445  \n",
       "1  TTTCTAGAAATGCTGCTGGGAGCTCCAGCACAGTGAAATGGACAGA...  0.029533  \n",
       "2  TTTCTAGAACTGCTGCTGGGAGCTCCAGCACAGTGAAATGGACAGA...  0.022148  \n",
       "3  TTTCTAGAAGTGCTGCTGGGAGCTCCAGCACAGTGAAATGGACAGA...  0.027447  \n",
       "4  TTTCTAGAATTGCTGCTGGGAGCTCCAGCACAGTGAAATGGACAGA...  0.099695  "
      ]
     },
     "execution_count": 4,
     "metadata": {},
     "output_type": "execute_result"
    }
   ],
   "source": [
    "data = pd.read_excel('data/datasets/ke_et_al_Supplemental_Table_S2_no_empty_lines.xls')\n",
    "data['PSI'] = 0.19*data.EI + 0.02\n",
    "data['sequence'] = data.apply(lambda x: x.seq[16:-9], axis=1)\n",
    "data['exon'] = data.apply(lambda x: x.sequence[7:-7], axis=1)\n",
    "data = data[['exon', 'sequence', 'PSI']]\n",
    "data.to_csv(f'data/datasets/WT1_exon_5.csv', index=False)\n",
    "data.head()"
   ]
  },
  {
   "cell_type": "code",
   "execution_count": 5,
   "metadata": {},
   "outputs": [
    {
     "data": {
      "text/html": [
       "<div>\n",
       "<style scoped>\n",
       "    .dataframe tbody tr th:only-of-type {\n",
       "        vertical-align: middle;\n",
       "    }\n",
       "\n",
       "    .dataframe tbody tr th {\n",
       "        vertical-align: top;\n",
       "    }\n",
       "\n",
       "    .dataframe thead th {\n",
       "        text-align: right;\n",
       "    }\n",
       "</style>\n",
       "<table border=\"1\" class=\"dataframe\">\n",
       "  <thead>\n",
       "    <tr style=\"text-align: right;\">\n",
       "      <th></th>\n",
       "      <th>exon</th>\n",
       "      <th>sequence</th>\n",
       "      <th>PSI</th>\n",
       "    </tr>\n",
       "  </thead>\n",
       "  <tbody>\n",
       "    <tr>\n",
       "      <th>21</th>\n",
       "      <td>GATCCAGATCTAACTTGCGGTGGCTGTGTCTCCTGCTTTTCCCGAT...</td>\n",
       "      <td>GATCCAGATCTAACTTGCGGTGGCTGTGTCTCCTGCTTTTCCCGAT...</td>\n",
       "      <td>0.936154</td>\n",
       "    </tr>\n",
       "    <tr>\n",
       "      <th>31</th>\n",
       "      <td>GATCCAGATCTAACTTGCGGTGGCTGTGTCTCCTGCTTTTGCCGAT...</td>\n",
       "      <td>GATCCAGATCTAACTTGCGGTGGCTGTGTCTCCTGCTTTTGCCGAT...</td>\n",
       "      <td>1.043201</td>\n",
       "    </tr>\n",
       "    <tr>\n",
       "      <th>83</th>\n",
       "      <td>GATCCAGATCTAACTTGCGGTGGCTGTGTCTTCTGCTTTTCCCAAT...</td>\n",
       "      <td>GATCCAGATCTAACTTGCGGTGGCTGTGTCTTCTGCTTTTCCCAAT...</td>\n",
       "      <td>0.821621</td>\n",
       "    </tr>\n",
       "    <tr>\n",
       "      <th>92</th>\n",
       "      <td>GATCCAGATCTAACTTGCGGTGGCTGTGTCTTCTGCTTTTGCCGAT...</td>\n",
       "      <td>GATCCAGATCTAACTTGCGGTGGCTGTGTCTTCTGCTTTTGCCGAT...</td>\n",
       "      <td>1.108504</td>\n",
       "    </tr>\n",
       "    <tr>\n",
       "      <th>93</th>\n",
       "      <td>GATCCAGATCTAACTTGCGGTGGCTGTGTCTTCTGCTTTTGCCGAT...</td>\n",
       "      <td>GATCCAGATCTAACTTGCGGTGGCTGTGTCTTCTGCTTTTGCCGAT...</td>\n",
       "      <td>1.092884</td>\n",
       "    </tr>\n",
       "  </tbody>\n",
       "</table>\n",
       "</div>"
      ],
      "text/plain": [
       "                                                 exon  \\\n",
       "21  GATCCAGATCTAACTTGCGGTGGCTGTGTCTCCTGCTTTTCCCGAT...   \n",
       "31  GATCCAGATCTAACTTGCGGTGGCTGTGTCTCCTGCTTTTGCCGAT...   \n",
       "83  GATCCAGATCTAACTTGCGGTGGCTGTGTCTTCTGCTTTTCCCAAT...   \n",
       "92  GATCCAGATCTAACTTGCGGTGGCTGTGTCTTCTGCTTTTGCCGAT...   \n",
       "93  GATCCAGATCTAACTTGCGGTGGCTGTGTCTTCTGCTTTTGCCGAT...   \n",
       "\n",
       "                                             sequence       PSI  \n",
       "21  GATCCAGATCTAACTTGCGGTGGCTGTGTCTCCTGCTTTTCCCGAT...  0.936154  \n",
       "31  GATCCAGATCTAACTTGCGGTGGCTGTGTCTCCTGCTTTTGCCGAT...  1.043201  \n",
       "83  GATCCAGATCTAACTTGCGGTGGCTGTGTCTTCTGCTTTTCCCAAT...  0.821621  \n",
       "92  GATCCAGATCTAACTTGCGGTGGCTGTGTCTTCTGCTTTTGCCGAT...  1.108504  \n",
       "93  GATCCAGATCTAACTTGCGGTGGCTGTGTCTTCTGCTTTTGCCGAT...  1.092884  "
      ]
     },
     "execution_count": 5,
     "metadata": {},
     "output_type": "execute_result"
    }
   ],
   "source": [
    "data = pd.read_excel(\"data/datasets/baeza_et_al_untreated_only.xls\")\n",
    "data[\"PSI\"] = data['Mean.PSI']\n",
    "data = data[data[\"PSI.Standard.Deviation\"] < 0.1]\n",
    "data['sequence'] = data.Sequence\n",
    "data['exon'] = data.Sequence\n",
    "data = data[['exon', 'sequence', 'PSI']]\n",
    "data.to_csv(f'data/datasets/FAS_exon_6.csv', index=False)\n",
    "data.head()"
   ]
  },
  {
   "cell_type": "markdown",
   "metadata": {},
   "source": [
    "# Rosenberg et al.\n",
    "\n",
    "Code reference: \n",
    "- [Alex-Rosenberg/cell-2015/ipython.notebooks\n",
    "/Cell2015_N11_Predicting_Cassette_Exon_SNP_Effects.ipynb](https://github.com/Alex-Rosenberg/cell-2015/blob/ca54d1117fd28375260bfde3d1b46f3d6074f306/ipython.notebooks/Cell2015_N11_Predicting_Cassette_Exon_SNP_Effects.ipynb#L712)"
   ]
  },
  {
   "cell_type": "code",
   "execution_count": 6,
   "metadata": {},
   "outputs": [],
   "source": [
    "def get_sequence(ref_seq, pos, seq):\n",
    "    return ref_seq[:pos-1] + seq[:min(len(seq),len(ref_seq)-pos+1)] + ref_seq[min(pos+len(seq)-1, len(ref_seq)):]\n",
    "\n",
    "def get_mutant_sequence_for_row(ref_seq, row):\n",
    "    assert(get_sequence(ref_seq, row.POS, row.REF) == ref_seq)\n",
    "    return(get_sequence(ref_seq, row.POS, row.ALT))"
   ]
  },
  {
   "cell_type": "code",
   "execution_count": 7,
   "metadata": {},
   "outputs": [
    {
     "data": {
      "text/html": [
       "<div>\n",
       "<style scoped>\n",
       "    .dataframe tbody tr th:only-of-type {\n",
       "        vertical-align: middle;\n",
       "    }\n",
       "\n",
       "    .dataframe tbody tr th {\n",
       "        vertical-align: top;\n",
       "    }\n",
       "\n",
       "    .dataframe thead th {\n",
       "        text-align: right;\n",
       "    }\n",
       "</style>\n",
       "<table border=\"1\" class=\"dataframe\">\n",
       "  <thead>\n",
       "    <tr style=\"text-align: right;\">\n",
       "      <th></th>\n",
       "      <th>exon</th>\n",
       "      <th>sequence</th>\n",
       "      <th>PSI</th>\n",
       "    </tr>\n",
       "  </thead>\n",
       "  <tbody>\n",
       "    <tr>\n",
       "      <th>0</th>\n",
       "      <td>GGTTTCAGACAAAATCAAAAAGAAGGAAGGTGCTCACATTCCTTAA...</td>\n",
       "      <td>AACTTCCTTTATTTTCCTTACAGGGTTTCAGACAAAATCAAAAAGA...</td>\n",
       "      <td>0.97</td>\n",
       "    </tr>\n",
       "    <tr>\n",
       "      <th>4</th>\n",
       "      <td>GGTGGTAGACAAAATCAAAAAGAAGGAAGGTGCTCACATTCCTTAA...</td>\n",
       "      <td>AACTTCCTTTATTTTCCTTACAGGGTGGTAGACAAAATCAAAAAGA...</td>\n",
       "      <td>0.59</td>\n",
       "    </tr>\n",
       "    <tr>\n",
       "      <th>6</th>\n",
       "      <td>GGTGTTAGACAAAATCAAAAAGAAGGAAGGTGCTCACATTCCTTAA...</td>\n",
       "      <td>AACTTCCTTTATTTTCCTTACAGGGTGTTAGACAAAATCAAAAAGA...</td>\n",
       "      <td>0.21</td>\n",
       "    </tr>\n",
       "    <tr>\n",
       "      <th>7</th>\n",
       "      <td>GGTTGTAGACAAAATCAAAAAGAAGGAAGGTGCTCACATTCCTTAA...</td>\n",
       "      <td>AACTTCCTTTATTTTCCTTACAGGGTTGTAGACAAAATCAAAAAGA...</td>\n",
       "      <td>0.47</td>\n",
       "    </tr>\n",
       "    <tr>\n",
       "      <th>8</th>\n",
       "      <td>GGTTTTAGACACAATCAAAAAGAAGGAAGGTGCTCACATTCCTTAA...</td>\n",
       "      <td>AACTTCCTTTATTTTCCTTACAGGGTTTTAGACACAATCAAAAAGA...</td>\n",
       "      <td>0.91</td>\n",
       "    </tr>\n",
       "  </tbody>\n",
       "</table>\n",
       "</div>"
      ],
      "text/plain": [
       "                                                exon  \\\n",
       "0  GGTTTCAGACAAAATCAAAAAGAAGGAAGGTGCTCACATTCCTTAA...   \n",
       "4  GGTGGTAGACAAAATCAAAAAGAAGGAAGGTGCTCACATTCCTTAA...   \n",
       "6  GGTGTTAGACAAAATCAAAAAGAAGGAAGGTGCTCACATTCCTTAA...   \n",
       "7  GGTTGTAGACAAAATCAAAAAGAAGGAAGGTGCTCACATTCCTTAA...   \n",
       "8  GGTTTTAGACACAATCAAAAAGAAGGAAGGTGCTCACATTCCTTAA...   \n",
       "\n",
       "                                            sequence   PSI  \n",
       "0  AACTTCCTTTATTTTCCTTACAGGGTTTCAGACAAAATCAAAAAGA...  0.97  \n",
       "4  AACTTCCTTTATTTTCCTTACAGGGTGGTAGACAAAATCAAAAAGA...  0.59  \n",
       "6  AACTTCCTTTATTTTCCTTACAGGGTGTTAGACAAAATCAAAAAGA...  0.21  \n",
       "7  AACTTCCTTTATTTTCCTTACAGGGTTGTAGACAAAATCAAAAAGA...  0.47  \n",
       "8  AACTTCCTTTATTTTCCTTACAGGGTTTTAGACACAATCAAAAAGA...  0.91  "
      ]
     },
     "execution_count": 7,
     "metadata": {},
     "output_type": "execute_result"
    }
   ],
   "source": [
    "data = pd.read_excel(\"data/datasets/rosenberg_et_al_supplementary_no_comments.xls\")\n",
    "\n",
    "SMN2_WT = \"GGTTTTAGACAAAATCAAAAAGAAGGAAGGTGCTCACATTCCTTAAATTAAGGA\"\n",
    "data = data[data.Gene == \"SMN1/2\"]\n",
    "data = data[data.apply(lambda x: len(x.REF) == len(x.ALT), axis=1)] # ignore indels\n",
    "data = data[data.REF_PSI < 0.5]  # take only SMN2, identified by its low REF_PSI; ignore SMN1\n",
    "data = data[data.apply (lambda x : SMN2_WT[:3] == get_mutant_sequence_for_row(SMN2_WT, x)[:3], axis=1)] # first and last 3nt are the same (same filtering done in the Rosenberg notebook \"genomic_predictions - Copy\")\n",
    "data = data[data.apply (lambda x : SMN2_WT[-3:] == get_mutant_sequence_for_row(SMN2_WT, x)[-3:], axis=1)]\n",
    "data[\"exon\"] = data.apply(lambda x: get_mutant_sequence_for_row(SMN2_WT, x), axis=1)\n",
    "data[\"sequence\"] = data.apply(lambda x: \"AACTTCCTTTATTTTCCTTACAG\"+get_mutant_sequence_for_row(SMN2_WT, x)+\"GTAAGTCTGCC\", axis=1)\n",
    "data[\"PSI\"] = data.ALT_PSI\n",
    "\n",
    "data = data[['exon', 'sequence', 'PSI']]\n",
    "data.to_csv(f'data/datasets/SMN2_exon_7.csv', index=False)\n",
    "data.head()"
   ]
  },
  {
   "cell_type": "code",
   "execution_count": 8,
   "metadata": {},
   "outputs": [
    {
     "data": {
      "text/html": [
       "<div>\n",
       "<style scoped>\n",
       "    .dataframe tbody tr th:only-of-type {\n",
       "        vertical-align: middle;\n",
       "    }\n",
       "\n",
       "    .dataframe tbody tr th {\n",
       "        vertical-align: top;\n",
       "    }\n",
       "\n",
       "    .dataframe thead th {\n",
       "        text-align: right;\n",
       "    }\n",
       "</style>\n",
       "<table border=\"1\" class=\"dataframe\">\n",
       "  <thead>\n",
       "    <tr style=\"text-align: right;\">\n",
       "      <th></th>\n",
       "      <th>exon</th>\n",
       "      <th>sequence</th>\n",
       "      <th>PSI</th>\n",
       "    </tr>\n",
       "  </thead>\n",
       "  <tbody>\n",
       "    <tr>\n",
       "      <th>153</th>\n",
       "      <td>GGTCATCAGACACCAAAACATATTTCTGAAAGTCTAGGAGCTGAGG...</td>\n",
       "      <td>TTTCTTTCCTCCCAGGGTCATCAGACACCAAAACATATTTCTGAAA...</td>\n",
       "      <td>0.80</td>\n",
       "    </tr>\n",
       "    <tr>\n",
       "      <th>154</th>\n",
       "      <td>GGTCGTCAGACACCACAACATATTTCTGAAAGTCTAGGAGCTGAGG...</td>\n",
       "      <td>TTTCTTTCCTCCCAGGGTCGTCAGACACCACAACATATTTCTGAAA...</td>\n",
       "      <td>0.89</td>\n",
       "    </tr>\n",
       "    <tr>\n",
       "      <th>155</th>\n",
       "      <td>GGTCGTCAGACACCAAAGCATATTTCTGAAAGTCTAGGAGCTGAGG...</td>\n",
       "      <td>TTTCTTTCCTCCCAGGGTCGTCAGACACCAAAGCATATTTCTGAAA...</td>\n",
       "      <td>0.87</td>\n",
       "    </tr>\n",
       "    <tr>\n",
       "      <th>157</th>\n",
       "      <td>GGTCGTCAGACACCAAAACATACTTCTGAAAGTCTAGGAGCTGAGG...</td>\n",
       "      <td>TTTCTTTCCTCCCAGGGTCGTCAGACACCAAAACATACTTCTGAAA...</td>\n",
       "      <td>0.90</td>\n",
       "    </tr>\n",
       "    <tr>\n",
       "      <th>158</th>\n",
       "      <td>GGTCGTCAGACACCAAAACATATTTCTGAAAGCCTAGGAGCTGAGG...</td>\n",
       "      <td>TTTCTTTCCTCCCAGGGTCGTCAGACACCAAAACATATTTCTGAAA...</td>\n",
       "      <td>0.90</td>\n",
       "    </tr>\n",
       "  </tbody>\n",
       "</table>\n",
       "</div>"
      ],
      "text/plain": [
       "                                                  exon  \\\n",
       "153  GGTCATCAGACACCAAAACATATTTCTGAAAGTCTAGGAGCTGAGG...   \n",
       "154  GGTCGTCAGACACCACAACATATTTCTGAAAGTCTAGGAGCTGAGG...   \n",
       "155  GGTCGTCAGACACCAAAGCATATTTCTGAAAGTCTAGGAGCTGAGG...   \n",
       "157  GGTCGTCAGACACCAAAACATACTTCTGAAAGTCTAGGAGCTGAGG...   \n",
       "158  GGTCGTCAGACACCAAAACATATTTCTGAAAGCCTAGGAGCTGAGG...   \n",
       "\n",
       "                                              sequence   PSI  \n",
       "153  TTTCTTTCCTCCCAGGGTCATCAGACACCAAAACATATTTCTGAAA...  0.80  \n",
       "154  TTTCTTTCCTCCCAGGGTCGTCAGACACCACAACATATTTCTGAAA...  0.89  \n",
       "155  TTTCTTTCCTCCCAGGGTCGTCAGACACCAAAGCATATTTCTGAAA...  0.87  \n",
       "157  TTTCTTTCCTCCCAGGGTCGTCAGACACCAAAACATACTTCTGAAA...  0.90  \n",
       "158  TTTCTTTCCTCCCAGGGTCGTCAGACACCAAAACATATTTCTGAAA...  0.90  "
      ]
     },
     "execution_count": 8,
     "metadata": {},
     "output_type": "execute_result"
    }
   ],
   "source": [
    "data = pd.read_excel(\"data/datasets/rosenberg_et_al_supplementary_no_comments.xls\")\n",
    "\n",
    "BRCA2 = \"GGTCGTCAGACACCAAAACATATTTCTGAAAGTCTAGGAGCTGAGGTGGATCCTGATATGTCTTGGTCAAGTTCTTTAGCTACACCACCCACCCTTAGTTCTACTGTGCTCATAG\"\n",
    "data = data[data.Gene == \"BRCA2\"]\n",
    "data = data.dropna()\n",
    "data = data[data.apply(lambda x: len(x.REF) == len(x.ALT), axis=1)] # ignore indels\n",
    "data = data[data.apply (lambda x : BRCA2[:3] == get_mutant_sequence_for_row(BRCA2, x)[:3], axis=1)] # first and last 4nt are the same (same filtering done in the Rosenberg notebook \"genomic_predictions - Copy\")\n",
    "data = data[data.apply (lambda x : BRCA2[-3:] == get_mutant_sequence_for_row(BRCA2, x)[-3:], axis=1)]\n",
    "data[\"exon\"] = data.apply(lambda x: get_mutant_sequence_for_row(BRCA2, x), axis=1)\n",
    "data[\"sequence\"] = data.apply(lambda x: \"TTTCTTTCCTCCCAG\"+get_mutant_sequence_for_row(BRCA2, x)+\"GTAATAATAGCAAAT\", axis=1)\n",
    "data[\"PSI\"] = data.ALT_PSI\n",
    "\n",
    "data = data[['exon', 'sequence', 'PSI']]\n",
    "data.to_csv(f'data/datasets/BRCA2_exon_7.csv', index=False)\n",
    "data.head()"
   ]
  },
  {
   "cell_type": "code",
   "execution_count": 9,
   "metadata": {},
   "outputs": [
    {
     "data": {
      "text/html": [
       "<div>\n",
       "<style scoped>\n",
       "    .dataframe tbody tr th:only-of-type {\n",
       "        vertical-align: middle;\n",
       "    }\n",
       "\n",
       "    .dataframe tbody tr th {\n",
       "        vertical-align: top;\n",
       "    }\n",
       "\n",
       "    .dataframe thead th {\n",
       "        text-align: right;\n",
       "    }\n",
       "</style>\n",
       "<table border=\"1\" class=\"dataframe\">\n",
       "  <thead>\n",
       "    <tr style=\"text-align: right;\">\n",
       "      <th></th>\n",
       "      <th>exon</th>\n",
       "      <th>sequence</th>\n",
       "      <th>PSI</th>\n",
       "    </tr>\n",
       "  </thead>\n",
       "  <tbody>\n",
       "    <tr>\n",
       "      <th>130</th>\n",
       "      <td>AGCAGTATATAAAGATGCTGATTTGTACCTATTAGATTCCCCTTTT...</td>\n",
       "      <td>CCATTTTCTTTTTAGAGCAGTATATAAAGATGCTGATTTGTACCTA...</td>\n",
       "      <td>0.95</td>\n",
       "    </tr>\n",
       "    <tr>\n",
       "      <th>131</th>\n",
       "      <td>AGCAGTATACAAAGATGCTGATTTGTATTTATTAGACTCTCCTTTT...</td>\n",
       "      <td>CCATTTTCTTTTTAGAGCAGTATACAAAGATGCTGATTTGTATTTA...</td>\n",
       "      <td>1.00</td>\n",
       "    </tr>\n",
       "    <tr>\n",
       "      <th>132</th>\n",
       "      <td>AGCAGTATATAAAGATGCTGATTTGTACCTATTAGATTCCCCTTTT...</td>\n",
       "      <td>CCATTTTCTTTTTAGAGCAGTATATAAAGATGCTGATTTGTACCTA...</td>\n",
       "      <td>0.05</td>\n",
       "    </tr>\n",
       "    <tr>\n",
       "      <th>133</th>\n",
       "      <td>AGCAGTATACAAGGATGCTGATTTGTATTTATTAGACTCTCCTTTT...</td>\n",
       "      <td>CCATTTTCTTTTTAGAGCAGTATACAAGGATGCTGATTTGTATTTA...</td>\n",
       "      <td>0.95</td>\n",
       "    </tr>\n",
       "    <tr>\n",
       "      <th>134</th>\n",
       "      <td>AGCAGTATACAAAGACGCTGATTTGTATTTATTAGACTCTCCTTTT...</td>\n",
       "      <td>CCATTTTCTTTTTAGAGCAGTATACAAAGACGCTGATTTGTATTTA...</td>\n",
       "      <td>0.95</td>\n",
       "    </tr>\n",
       "  </tbody>\n",
       "</table>\n",
       "</div>"
      ],
      "text/plain": [
       "                                                  exon  \\\n",
       "130  AGCAGTATATAAAGATGCTGATTTGTACCTATTAGATTCCCCTTTT...   \n",
       "131  AGCAGTATACAAAGATGCTGATTTGTATTTATTAGACTCTCCTTTT...   \n",
       "132  AGCAGTATATAAAGATGCTGATTTGTACCTATTAGATTCCCCTTTT...   \n",
       "133  AGCAGTATACAAGGATGCTGATTTGTATTTATTAGACTCTCCTTTT...   \n",
       "134  AGCAGTATACAAAGACGCTGATTTGTATTTATTAGACTCTCCTTTT...   \n",
       "\n",
       "                                              sequence   PSI  \n",
       "130  CCATTTTCTTTTTAGAGCAGTATATAAAGATGCTGATTTGTACCTA...  0.95  \n",
       "131  CCATTTTCTTTTTAGAGCAGTATACAAAGATGCTGATTTGTATTTA...  1.00  \n",
       "132  CCATTTTCTTTTTAGAGCAGTATATAAAGATGCTGATTTGTACCTA...  0.05  \n",
       "133  CCATTTTCTTTTTAGAGCAGTATACAAGGATGCTGATTTGTATTTA...  0.95  \n",
       "134  CCATTTTCTTTTTAGAGCAGTATACAAAGACGCTGATTTGTATTTA...  0.95  "
      ]
     },
     "execution_count": 9,
     "metadata": {},
     "output_type": "execute_result"
    }
   ],
   "source": [
    "data = pd.read_excel(\"data/datasets/rosenberg_et_al_supplementary_no_comments.xls\")\n",
    "\n",
    "CFTR = \"AGCAGTATACAAAGATGCTGATTTGTATTTATTAGACTCTCCTTTTGGATACCTAGATGTTTTAACAGAAAAAGAAATATTTGAAAG\"\n",
    "data = data[data.Gene == \"CFTR\"]\n",
    "data = data[data.apply(lambda x: len(x.REF) == len(x.ALT), axis=1)] # ignore indels\n",
    "data = data[data.apply (lambda x : CFTR[:3] == get_mutant_sequence_for_row(CFTR, x)[:3], axis=1)] # first and last 4nt are the same (same filtering done in the Rosenberg notebook \"genomic_predictions - Copy\")\n",
    "data = data[data.apply (lambda x : CFTR[-3:] == get_mutant_sequence_for_row(CFTR, x)[-3:], axis=1)]\n",
    "data[\"exon\"] = data.apply(lambda x: get_mutant_sequence_for_row(CFTR, x), axis=1)\n",
    "data[\"sequence\"] = data.apply(lambda x: \"CCATTTTCTTTTTAG\"+get_mutant_sequence_for_row(CFTR, x)+\"GTATGTTCTTTGAAT\", axis=1)\n",
    "data[\"PSI\"] = data.ALT_PSI\n",
    "\n",
    "data = data[['exon', 'sequence', 'PSI']]\n",
    "data.to_csv(f'data/datasets/CFTR_exon_13.csv', index=False)\n",
    "data.head()"
   ]
  },
  {
   "cell_type": "markdown",
   "metadata": {},
   "source": [
    "# Save basal shift and padding sequences for each dataset"
   ]
  },
  {
   "cell_type": "code",
   "execution_count": 10,
   "metadata": {},
   "outputs": [
    {
     "name": "stderr",
     "output_type": "stream",
     "text": [
      "100%|██████████| 100/100 [00:37<00:00,  2.64it/s]\n"
     ]
    },
    {
     "name": "stdout",
     "output_type": "stream",
     "text": [
      "WT1_exon_5\n",
      "Sequence length:  65\n",
      "Exon length:  51\n",
      "Number of datapoints:  5560\n",
      "Best shift:  -5.8\n",
      "Best RMSE:  0.02669870216950634\n",
      "R2:  0.7756628909179489\n",
      "\n"
     ]
    },
    {
     "name": "stderr",
     "output_type": "stream",
     "text": [
      "100%|██████████| 100/100 [00:34<00:00,  2.91it/s]\n"
     ]
    },
    {
     "name": "stdout",
     "output_type": "stream",
     "text": [
      "FAS_exon_6\n",
      "Sequence length:  63\n",
      "Exon length:  63\n",
      "Number of datapoints:  794\n",
      "Best shift:  2.4\n",
      "Best RMSE:  0.02633237888327526\n",
      "R2:  0.9020387508616958\n",
      "\n"
     ]
    },
    {
     "name": "stderr",
     "output_type": "stream",
     "text": [
      "100%|██████████| 100/100 [00:36<00:00,  2.76it/s]\n"
     ]
    },
    {
     "name": "stdout",
     "output_type": "stream",
     "text": [
      "SMN2_exon_7\n",
      "Sequence length:  88\n",
      "Exon length:  54\n",
      "Number of datapoints:  56\n",
      "Best shift:  5.2\n",
      "Best RMSE:  0.05765770791180734\n",
      "R2:  0.6485961639623267\n",
      "\n"
     ]
    },
    {
     "name": "stderr",
     "output_type": "stream",
     "text": [
      "100%|██████████| 100/100 [00:42<00:00,  2.37it/s]\n"
     ]
    },
    {
     "name": "stdout",
     "output_type": "stream",
     "text": [
      "BRCA2_exon_7\n",
      "Sequence length:  145\n",
      "Exon length:  115\n",
      "Number of datapoints:  31\n",
      "Best shift:  8.0\n",
      "Best RMSE:  0.014833782753232546\n",
      "R2:  0.6915058670445455\n",
      "\n"
     ]
    },
    {
     "name": "stderr",
     "output_type": "stream",
     "text": [
      "100%|██████████| 100/100 [00:38<00:00,  2.63it/s]"
     ]
    },
    {
     "name": "stdout",
     "output_type": "stream",
     "text": [
      "CFTR_exon_13\n",
      "Sequence length:  117\n",
      "Exon length:  87\n",
      "Number of datapoints:  22\n",
      "Best shift:  7.0\n",
      "Best RMSE:  0.047352519377309416\n",
      "R2:  0.8591799198918351\n",
      "\n"
     ]
    },
    {
     "name": "stderr",
     "output_type": "stream",
     "text": [
      "\n"
     ]
    }
   ],
   "source": [
    "datasets_data = {\n",
    "    \"ES7\": {\n",
    "        \"basal_shift\": 0,\n",
    "        \"pre_flanking_sequence\": \"CATCCAGGTT\",\n",
    "        \"post_flanking_sequence\": \"CAGGTCTGAC\",\n",
    "        \"number_of_datapoints\": 47962,\n",
    "        \"exon_length\": 70,\n",
    "        \"sequence_length\": 90,\n",
    "        \"r_squared\": 0.9069368881066787\n",
    "    }\n",
    "}\n",
    "datasets = [\n",
    "    'WT1_exon_5',\n",
    "    'FAS_exon_6',\n",
    "    'SMN2_exon_7',\n",
    "    'BRCA2_exon_7',\n",
    "    'CFTR_exon_13'\n",
    "]\n",
    "for dataset in datasets:\n",
    "    data = pd.read_csv(f'data/datasets/{dataset}.csv')\n",
    "    input_to_model = create_input_data(list(data.sequence))\n",
    "    seq_len = len(data.sequence.iloc[0])\n",
    "    best_rmse = 1000\n",
    "    r2 = None\n",
    "    for basal_shift in tqdm(np.arange(-10,10,0.2)):\n",
    "        basal_shift = np.round(basal_shift,1)\n",
    "        custom_model = generate_custom_model(seq_len, basal_shift)\n",
    "        predictions = custom_model(input_to_model).numpy().flatten()\n",
    "        rmse = ((data.PSI-predictions)**2).mean()\n",
    "        if (rmse<best_rmse):\n",
    "            best_basal_shift = basal_shift\n",
    "            best_rmse = rmse\n",
    "            r2 = r2_score(data.PSI, predictions)\n",
    "    print(dataset)\n",
    "    print('Sequence length: ', seq_len)\n",
    "    print('Exon length: ', len(data.exon.iloc[0]))\n",
    "    print('Number of datapoints: ', len(data))\n",
    "    print('Best shift: ', best_basal_shift)\n",
    "    print(\"Best RMSE: \", best_rmse)\n",
    "    print(\"R2: \", r2)\n",
    "    print()\n",
    "    sequence = data.sequence.iloc[0]\n",
    "    exon = data.exon.iloc[0]\n",
    "    pre_flanking_sequence = sequence[:sequence.find(exon)]\n",
    "    post_flanking_sequence = sequence[(sequence.find(exon)+len(exon)):]\n",
    "    datasets_data[dataset] = {\n",
    "        \"basal_shift\": best_basal_shift,\n",
    "        \"pre_flanking_sequence\": pre_flanking_sequence,\n",
    "        \"post_flanking_sequence\": post_flanking_sequence,\n",
    "        \"number_of_datapoints\": len(data),\n",
    "        \"exon_length\": len(data.exon.iloc[0]),\n",
    "        \"sequence_length\": seq_len,\n",
    "        \"r_squared\": r2\n",
    "    }\n",
    "with open(\"data/datasets_data.json\", \"w\") as f:\n",
    "    dump(datasets_data, f, indent=2)"
   ]
  }
 ],
 "metadata": {
  "kernelspec": {
   "display_name": "vis",
   "language": "python",
   "name": "python3"
  },
  "language_info": {
   "codemirror_mode": {
    "name": "ipython",
    "version": 3
   },
   "file_extension": ".py",
   "mimetype": "text/x-python",
   "name": "python",
   "nbconvert_exporter": "python",
   "pygments_lexer": "ipython3",
   "version": "3.10.4"
  }
 },
 "nbformat": 4,
 "nbformat_minor": 2
}
