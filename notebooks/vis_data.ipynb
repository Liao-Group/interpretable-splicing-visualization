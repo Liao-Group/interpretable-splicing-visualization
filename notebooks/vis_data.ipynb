{
 "cells": [
  {
   "cell_type": "markdown",
   "metadata": {},
   "source": [
    "# Generate and visualize filter strengths"
   ]
  },
  {
   "cell_type": "code",
   "execution_count": 1,
   "metadata": {},
   "outputs": [
    {
     "name": "stderr",
     "output_type": "stream",
     "text": [
      "/Users/nnguyen/Documents/Research/SusanLiao/interpretable-splicing-visualization/myenv/lib/python3.10/site-packages/tqdm/auto.py:21: TqdmWarning: IProgress not found. Please update jupyter and ipywidgets. See https://ipywidgets.readthedocs.io/en/stable/user_install.html\n",
      "  from .autonotebook import tqdm as notebook_tqdm\n"
     ]
    }
   ],
   "source": [
    "%load_ext autoreload\n",
    "%autoreload 2\n",
    "\n",
    "import sys\n",
    "sys.path.append(\"../\")\n",
    "import os\n",
    "os.chdir(\"..\")\n",
    "import pandas as pd\n",
    "import matplotlib.pyplot as plt\n",
    "from src.vis_data import get_vis_data"
   ]
  },
  {
   "cell_type": "markdown",
   "metadata": {},
   "source": [
    "## 1. Generate and save filter strengths"
   ]
  },
  {
   "cell_type": "code",
   "execution_count": 2,
   "metadata": {},
   "outputs": [],
   "source": [
    "def sum_strength(d):\n",
    "    if \"strength\" in d.keys():\n",
    "        return d[\"strength\"]\n",
    "    return sum([sum_strength(child) for child in d[\"children\"]])"
   ]
  },
  {
   "cell_type": "code",
   "execution_count": 2,
   "metadata": {},
   "outputs": [
    {
     "name": "stdout",
     "output_type": "stream",
     "text": [
      "WARNING:tensorflow:5 out of the last 5 calls to <function Model.make_predict_function.<locals>.predict_function at 0x334454f70> triggered tf.function retracing. Tracing is expensive and the excessive number of tracings could be due to (1) creating @tf.function repeatedly in a loop, (2) passing tensors with different shapes, (3) passing Python objects instead of tensors. For (1), please define your @tf.function outside of the loop. For (2), @tf.function has reduce_retracing=True option that can avoid unnecessary retracing. For (3), please refer to https://www.tensorflow.org/guide/function#controlling_retracing and https://www.tensorflow.org/api_docs/python/tf/function for  more details.\n",
      "WARNING:tensorflow:6 out of the last 6 calls to <function Model.make_predict_function.<locals>.predict_function at 0x334455a20> triggered tf.function retracing. Tracing is expensive and the excessive number of tracings could be due to (1) creating @tf.function repeatedly in a loop, (2) passing tensors with different shapes, (3) passing Python objects instead of tensors. For (1), please define your @tf.function outside of the loop. For (2), @tf.function has reduce_retracing=True option that can avoid unnecessary retracing. For (3), please refer to https://www.tensorflow.org/guide/function#controlling_retracing and https://www.tensorflow.org/api_docs/python/tf/function for  more details.\n"
     ]
    }
   ],
   "source": [
    "json_data = get_vis_data(exon=\"GCGGCACCTACTACAATGTCCCCCGCTGCATACACTCGGAGCCAATAGGGCGCCTATAGAGTGTAGTCCT\", json_file=\"data/teaser.json\", threshold=0.001)\n",
    "json_data = get_vis_data(exon=\"GAGTCCCGCTTACCATTGCATTTAAGAAAGCGGCCATACGCCGCTAAGACCCTACTCTTCAGAATACCAG\", json_file=\"data/exon_s1.json\", threshold=0.001)\n",
    "json_data = get_vis_data(exon=\"CCTTCCACGCCTCTCCCACTCGTTACACTCAGTTGCAGTATGGTTAACACTCCACTAGGCCCCAGGAATC\", json_file=\"data/exon_s1_comp1.json\", threshold=0.001)\n",
    "json_data = get_vis_data(exon=\"GTCTGACAGTACTACGCTAATACTACGTAAACCAAAGCCATAATCCAATTGACCTCCTTTTCAGGAATTC\", json_file=\"data/exon_s1_comp2.json\", threshold=0.001)\n",
    "json_data = get_vis_data(exon=\"GAGTCCCGCTTACCATTGCATTTAAGAAAGAGGCCATACGCCGCTAAGACCCTACTCTTCAGAATACCAG\", json_file=\"data/exon_s1_34c>a.json\", threshold=0.001)\n",
    "json_data = get_vis_data(exon=\"GAGTCCCGCTTACCATTGCATTTAAGAAAGAGGCCATACGCCTCTAAGACCCTACTCTTCAGAATACCAG\", json_file=\"data/exon_s1_34c>a_46g>u.json\", threshold=0.001)\n",
    "json_data = get_vis_data(exon=\"GACTATGAGCCCCAACGAACAAGCTCCTATCTGGGAACTCTTTTCTGCAGACTTTAACCCTACCCCCAGA\", json_file=\"data/exon_d1.json\", threshold=0.001)"
   ]
  },
  {
   "cell_type": "code",
   "execution_count": 3,
   "metadata": {},
   "outputs": [
    {
     "name": "stdout",
     "output_type": "stream",
     "text": [
      "1/1 [==============================] - 0s 111ms/step\n",
      "1/1 [==============================] - 0s 59ms/step\n"
     ]
    }
   ],
   "source": [
    "json_data = get_vis_data(exon=\"GCGGCACCTACTACAATGTCCCCCGCTGCATACACTCGGAGCCAATAGGGCGCCTATAGAGTGTAGTCCT\", json_file=\"data/exon.json\", threshold=0.001)"
   ]
  },
  {
   "cell_type": "code",
   "execution_count": 5,
   "metadata": {},
   "outputs": [
    {
     "data": {
      "text/plain": [
       "-16.2321506754854"
      ]
     },
     "execution_count": 5,
     "metadata": {},
     "output_type": "execute_result"
    }
   ],
   "source": [
    "json_data[\"delta_force\"]"
   ]
  },
  {
   "cell_type": "code",
   "execution_count": 6,
   "metadata": {},
   "outputs": [
    {
     "data": {
      "text/plain": [
       "-16.2142274712114"
      ]
     },
     "execution_count": 6,
     "metadata": {},
     "output_type": "execute_result"
    }
   ],
   "source": [
    "sum_strength(json_data[\"nucleotide_activations\"][\"children\"][0]) - sum_strength(json_data[\"nucleotide_activations\"][\"children\"][1]) + json_data[\"incl_bias\"]"
   ]
  },
  {
   "cell_type": "code",
   "execution_count": 7,
   "metadata": {},
   "outputs": [
    {
     "data": {
      "text/plain": [
       "-16.214227471211387"
      ]
     },
     "execution_count": 7,
     "metadata": {},
     "output_type": "execute_result"
    }
   ],
   "source": [
    "sum_strength(json_data[\"feature_activations\"][\"children\"][0]) - sum_strength(json_data[\"feature_activations\"][\"children\"][1])"
   ]
  },
  {
   "cell_type": "markdown",
   "metadata": {},
   "source": [
    "## 2. New groupings"
   ]
  },
  {
   "cell_type": "code",
   "execution_count": 11,
   "metadata": {},
   "outputs": [],
   "source": [
    "json_data = get_vis_data(exon=\"GCGGCACCTACTACAATGTCCCCCGCTGCATACACTCGGAGCCAATAGGGCGCCTATAGAGTGTAGTCCT\", json_file=\"data/correct_teaser.json\", threshold=0.001, use_new_grouping=True)\n",
    "json_data = get_vis_data(exon=\"GAGTCCCGCTTACCATTGCATTTAAGAAAGCGGCCATACGCCGCTAAGACCCTACTCTTCAGAATACCAG\", json_file=\"data/correct_exon_s1.json\", threshold=0.001, use_new_grouping=True)\n",
    "json_data = get_vis_data(exon=\"CCTTCCACGCCTCTCCCACTCGTTACACTCAGTTGCAGTATGGTTAACACTCCACTAGGCCCCAGGAATC\", json_file=\"data/correct_exon_s1_comp1.json\", threshold=0.001, use_new_grouping=True)\n",
    "json_data = get_vis_data(exon=\"GTCTGACAGTACTACGCTAATACTACGTAAACCAAAGCCATAATCCAATTGACCTCCTTTTCAGGAATTC\", json_file=\"data/correct_exon_s1_comp2.json\", threshold=0.001, use_new_grouping=True)\n",
    "json_data = get_vis_data(exon=\"GAGTCCCGCTTACCATTGCATTTAAGAAAGAGGCCATACGCCGCTAAGACCCTACTCTTCAGAATACCAG\", json_file=\"data/correct_exon_s1_34c>a.json\", threshold=0.001, use_new_grouping=True)\n",
    "json_data = get_vis_data(exon=\"GAGTCCCGCTTACCATTGCATTTAAGAAAGAGGCCATACGCCTCTAAGACCCTACTCTTCAGAATACCAG\", json_file=\"data/correct_exon_s1_34c>a_46g>u.json\", threshold=0.001, use_new_grouping=True)\n",
    "json_data = get_vis_data(exon=\"GACTATGAGCCCCAACGAACAAGCTCCTATCTGGGAACTCTTTTCTGCAGACTTTAACCCTACCCCCAGA\", json_file=\"data/correct_exon_d1.json\", threshold=0.001, use_new_grouping=True)"
   ]
  },
  {
   "cell_type": "code",
   "execution_count": 2,
   "metadata": {},
   "outputs": [
    {
     "name": "stdout",
     "output_type": "stream",
     "text": [
      "1/1 [==============================] - 0s 140ms/step\n",
      "1/1 [==============================] - 0s 53ms/step\n"
     ]
    }
   ],
   "source": [
    "json_data = get_vis_data(exon=\"GCGGCACCUACUACAAUGUCCCCCGCUGCAUACACUCGGAGCCAAUAGGGCGCCUAUAGAGUGUAGUCCU\", json_file=\"data/teaser_18.json\", threshold=0.001, use_new_grouping=True)"
   ]
  },
  {
   "cell_type": "code",
   "execution_count": 2,
   "metadata": {},
   "outputs": [],
   "source": [
    "json_data = get_vis_data(exon=\"CCGCGACCGGAUUAAGAUGAAGGAACGAAGCAAUUGUCGAAUCUACUCUAAUCUGCUCGAAGAUCAGAAC\", json_file=\"data/max_incl_class.json\", threshold=0.001, use_new_grouping=True)\n",
    "json_data = get_vis_data(exon=\"AGAUGUCGAUCCCCAUUAAUCAACCCCUCUCCUUAUAUUAUCCCCAUAUUCACAAAACUGUUUGCUAAAA\", json_file=\"data/max_skip_class.json\", threshold=0.001, use_new_grouping=True)"
   ]
  },
  {
   "cell_type": "code",
   "execution_count": 3,
   "metadata": {},
   "outputs": [
    {
     "name": "stdout",
     "output_type": "stream",
     "text": [
      "WARNING:tensorflow:5 out of the last 5 calls to <function Model.make_predict_function.<locals>.predict_function at 0x336114f70> triggered tf.function retracing. Tracing is expensive and the excessive number of tracings could be due to (1) creating @tf.function repeatedly in a loop, (2) passing tensors with different shapes, (3) passing Python objects instead of tensors. For (1), please define your @tf.function outside of the loop. For (2), @tf.function has reduce_retracing=True option that can avoid unnecessary retracing. For (3), please refer to https://www.tensorflow.org/guide/function#controlling_retracing and https://www.tensorflow.org/api_docs/python/tf/function for  more details.\n",
      "WARNING:tensorflow:6 out of the last 6 calls to <function Model.make_predict_function.<locals>.predict_function at 0x336115a20> triggered tf.function retracing. Tracing is expensive and the excessive number of tracings could be due to (1) creating @tf.function repeatedly in a loop, (2) passing tensors with different shapes, (3) passing Python objects instead of tensors. For (1), please define your @tf.function outside of the loop. For (2), @tf.function has reduce_retracing=True option that can avoid unnecessary retracing. For (3), please refer to https://www.tensorflow.org/guide/function#controlling_retracing and https://www.tensorflow.org/api_docs/python/tf/function for  more details.\n"
     ]
    }
   ],
   "source": [
    "json_data = get_vis_data(exon=\"CCGCGACCGGAUUAAGAUGAAGGAACGAAGCAAUUGUCGAAUCUACUCUAAUCUGCUCGAAGAUCAGAAC\", json_file=\"data/max_incl_feature.json\", threshold=0.001, use_new_grouping=True)\n",
    "json_data = get_vis_data(exon=\"CCACUCACCGCCGCCGGUGUCCUGGCAUACUCAUUAUCGCAACCCCGACGCGGCCCACUUGGGUCGCGGC\", json_file=\"data/max_skip_feature.json\", threshold=0.001, use_new_grouping=True)"
   ]
  },
  {
   "cell_type": "code",
   "execution_count": 4,
   "metadata": {},
   "outputs": [],
   "source": [
    "json_data = get_vis_data(exon=\"AGUCUCUUGGAAUCGCGCCCGACAUCUUACCAGUAAAAUCGGUGCUCCAGGGCCACGAUCUUCGACACCA\", json_file=\"data/max_incl_feature_pos.json\", threshold=0.001, use_new_grouping=True)\n",
    "json_data = get_vis_data(exon=\"GCUCGCAACCAGCCGCCUACCUAUUAAUUGUCUGUGCUCCAAGAAUUACAGCUAGCAAUUUAGGUACCAA\", json_file=\"data/max_skip_feature_pos.json\", threshold=0.001, use_new_grouping=True)"
   ]
  },
  {
   "cell_type": "code",
   "execution_count": 2,
   "metadata": {},
   "outputs": [],
   "source": [
    "json_data = get_vis_data(exon=\"GACTATGAGCCCCAACGAACAAGCTCCTATCTGGGAACTCTTTTCTGCAGACTTTAACCCTACCCCCAGA\", json_file=\"data/exon_d1_18.json\", threshold=0.001, use_new_grouping=True)"
   ]
  },
  {
   "cell_type": "markdown",
   "metadata": {},
   "source": [
    "# 3. Different length"
   ]
  },
  {
   "cell_type": "code",
   "execution_count": 5,
   "metadata": {},
   "outputs": [
    {
     "name": "stdout",
     "output_type": "stream",
     "text": [
      "WARNING:tensorflow:5 out of the last 5 calls to <function Model.make_predict_function.<locals>.predict_function at 0x365f86290> triggered tf.function retracing. Tracing is expensive and the excessive number of tracings could be due to (1) creating @tf.function repeatedly in a loop, (2) passing tensors with different shapes, (3) passing Python objects instead of tensors. For (1), please define your @tf.function outside of the loop. For (2), @tf.function has reduce_retracing=True option that can avoid unnecessary retracing. For (3), please refer to https://www.tensorflow.org/guide/function#controlling_retracing and https://www.tensorflow.org/api_docs/python/tf/function for  more details.\n",
      "WARNING:tensorflow:6 out of the last 6 calls to <function Model.make_predict_function.<locals>.predict_function at 0x365e1ef80> triggered tf.function retracing. Tracing is expensive and the excessive number of tracings could be due to (1) creating @tf.function repeatedly in a loop, (2) passing tensors with different shapes, (3) passing Python objects instead of tensors. For (1), please define your @tf.function outside of the loop. For (2), @tf.function has reduce_retracing=True option that can avoid unnecessary retracing. For (3), please refer to https://www.tensorflow.org/guide/function#controlling_retracing and https://www.tensorflow.org/api_docs/python/tf/function for  more details.\n"
     ]
    }
   ],
   "source": [
    "json_data = get_vis_data(exon=\"ATATTGTTGACGGTCAATTATATGGGCTCATATGATAGCACCTGTCGAGATGTTTAAGGCATAAGGAGCTGACGTTGGCCTCAGTATTATAGTGCAGCAACGGATTGTGCATAATCGTGTATGAATCCGAGGATTTGGCG\", json_file=\"data/exon_length_140.json\", threshold=0.001, use_new_grouping=True, dataset=\"ES7\")\n",
    "json_data = get_vis_data(exon=\"TCAAACAGGCGTAACATATTCATTAAAGCCGTTGCACATGGAGCTGAGATATACACAGGAACGAACCGTTTACGTTAATGGGA\", json_file=\"data/exon_length_83.json\", threshold=0.001, use_new_grouping=True, dataset=\"ES7\")\n",
    "json_data = get_vis_data(exon=\"ATGAAATCCATTCCACAGCA\", json_file=\"data/exon_length_20.json\", threshold=0.001, use_new_grouping=True, dataset=\"ES7\")"
   ]
  }
 ],
 "metadata": {
  "kernelspec": {
   "display_name": "Python 3",
   "language": "python",
   "name": "python3"
  },
  "language_info": {
   "codemirror_mode": {
    "name": "ipython",
    "version": 3
   },
   "file_extension": ".py",
   "mimetype": "text/x-python",
   "name": "python",
   "nbconvert_exporter": "python",
   "pygments_lexer": "ipython3",
   "version": "3.10.4"
  }
 },
 "nbformat": 4,
 "nbformat_minor": 2
}
