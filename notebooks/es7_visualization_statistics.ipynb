{
 "cells": [
  {
   "cell_type": "code",
   "execution_count": 1,
   "metadata": {},
   "outputs": [
    {
     "name": "stderr",
     "output_type": "stream",
     "text": [
      "/Users/nnguyen/anaconda3/envs/vis/lib/python3.10/site-packages/tqdm/auto.py:21: TqdmWarning: IProgress not found. Please update jupyter and ipywidgets. See https://ipywidgets.readthedocs.io/en/stable/user_install.html\n",
      "  from .autonotebook import tqdm as notebook_tqdm\n"
     ]
    }
   ],
   "source": [
    "%load_ext autoreload\n",
    "%autoreload 2\n",
    "\n",
    "import sys\n",
    "sys.path.append(\"../\")\n",
    "import numpy as np\n",
    "import pandas as pd\n",
    "import matplotlib.pyplot as plt\n",
    "from tqdm import tqdm\n",
    "from src.vis_data import get_vis_data\n",
    "from joblib import load"
   ]
  },
  {
   "cell_type": "code",
   "execution_count": 2,
   "metadata": {},
   "outputs": [],
   "source": [
    "def sum_strength(d):\n",
    "    if \"strength\" in d.keys():\n",
    "        return d[\"strength\"]\n",
    "    return sum([sum_strength(child) for child in d[\"children\"]])"
   ]
  },
  {
   "cell_type": "code",
   "execution_count": 26,
   "metadata": {},
   "outputs": [],
   "source": [
    "# Load exons\n",
    "exons = [\n",
    "    \"GAGUCCCGCUUACCAUUGCAUUUAAGAAAGAGGCCAUACGCCGCUAAGACCCUACUCUUCAGAAUACCAG\",\n",
    "    \"GAGUCCCGCUUACCAUUGCAUUUAAGAAAGCGGCCAUACGCCGCUAAGACCCUACUCUUCAGAAUACCAG\",\n",
    "    \"GUCUGACAGUACUACGCUAAUACUACGUAAACCAAAGCCAUAAUCCAAUUGACCUCCUUUUCAGGAAUUC\",\n",
    "    \"CCUUCCACGCCUCUCCCACUCGUUACACUCAGUUGCAGUAUGGUUAACACUCCACUAGGCCCCAGGAAUC\",\n",
    "    \"GAGUCCCGCUUACCAUUGCAUUUAAGAAAGAGGCCAUACGCCUCUAAGACCCUACUCUUCAGAAUACCAG\",\n",
    "    \"GAGUCCCGCUUACCAUUGCAUUUAAGAAAGAGGCCAUACGCCGCUAAGACCCUACUCUUCAGAAUACCAG\",\n",
    "]"
   ]
  },
  {
   "cell_type": "code",
   "execution_count": 27,
   "metadata": {},
   "outputs": [
    {
     "name": "stderr",
     "output_type": "stream",
     "text": [
      "  0%|          | 0/6 [00:00<?, ?it/s]"
     ]
    },
    {
     "name": "stderr",
     "output_type": "stream",
     "text": [
      "100%|██████████| 6/6 [00:03<00:00,  1.55it/s]\n"
     ]
    }
   ],
   "source": [
    "# Get vis data\n",
    "json_data = [None]*len(exons)\n",
    "i = 0\n",
    "for exon in tqdm(exons):\n",
    "    json_data[i] = get_vis_data(exon=exon, threshold=0.001)\n",
    "    i += 1"
   ]
  },
  {
   "cell_type": "code",
   "execution_count": 32,
   "metadata": {},
   "outputs": [
    {
     "name": "stdout",
     "output_type": "stream",
     "text": [
      "Delta strenth range: (-13.908240915963916, 22.812916158010694)\n",
      "Max class strength: 86.02241516113281\n",
      "Max feature strength: 37.52738878960292\n",
      "Max feature position strength: 11.806382848973044\n",
      "Max nucleotide position strength: 3.7882057132961697\n",
      "Max nucleotide position feature strength: 3.7689620256641363\n"
     ]
    }
   ],
   "source": [
    "# Min and max of delta strength\n",
    "print(\"Delta strenth range:\", end=\" \")\n",
    "print((\n",
    "    min(exon_data[\"delta_force\"] for exon_data in json_data), \n",
    "    max(exon_data[\"delta_force\"] for exon_data in json_data)\n",
    "))\n",
    "\n",
    "# Max of class strength\n",
    "print(\"Max class strength:\", end=\" \")\n",
    "print(max(\n",
    "    max([exon_data[\"incl_strength\"] for exon_data in json_data]),\n",
    "    max([exon_data[\"skip_strength\"] for exon_data in json_data])\n",
    "))\n",
    "\n",
    "# Max of feature strength\n",
    "max_feature_strength = 0\n",
    "for exon_data in json_data:\n",
    "    for class_feature_activations in exon_data[\"feature_activations\"][\"children\"]:\n",
    "        for feature_strength in class_feature_activations[\"children\"]:\n",
    "            max_feature_strength = max(\n",
    "                max_feature_strength, sum_strength(feature_strength)\n",
    "            )\n",
    "print(\"Max feature strength:\", max_feature_strength)\n",
    "\n",
    "# Max of feature position strength\n",
    "max_feature_position_strength = 0\n",
    "for exon_data in json_data:\n",
    "    for class_feature_activations in exon_data[\"feature_activations\"][\"children\"]:\n",
    "        for feature_strength in class_feature_activations[\"children\"]:\n",
    "            if \"children\" not in feature_strength.keys():\n",
    "                continue\n",
    "            for feature_position_strength in feature_strength[\"children\"]:\n",
    "                max_feature_position_strength = max(\n",
    "                    max_feature_position_strength, feature_position_strength[\"strength\"]\n",
    "                )\n",
    "print(\"Max feature position strength:\", max_feature_position_strength)\n",
    "\n",
    "# Max of nucleotide position strength\n",
    "max_nucleotide_position_strength = 0\n",
    "for exon_data in json_data:\n",
    "    for class_nucleotide_activations in exon_data[\"nucleotide_activations\"][\"children\"]:\n",
    "        for nucleotide_strength in class_nucleotide_activations[\"children\"]:\n",
    "            for nucleotide_position_strength in nucleotide_strength[\"children\"]:\n",
    "                max_nucleotide_position_strength = max(\n",
    "                    max_nucleotide_position_strength, sum_strength(nucleotide_position_strength)\n",
    "                )\n",
    "print(\"Max nucleotide position strength:\", max_nucleotide_position_strength)\n",
    "\n",
    "# Max of nucleotide position feature strength\n",
    "max_nucleotide_position_feature_strength = 0\n",
    "for exon_data in json_data:\n",
    "    for class_nucleotide_activations in exon_data[\"nucleotide_activations\"][\"children\"]:\n",
    "        for nucleotide_strength in class_nucleotide_activations[\"children\"]:\n",
    "            for nucleotide_position_strength in nucleotide_strength[\"children\"]:\n",
    "                for nucleotide_position_feature_strength in nucleotide_position_strength[\"children\"]:\n",
    "                    max_nucleotide_position_feature_strength = max(\n",
    "                        max_nucleotide_position_feature_strength, \n",
    "                        nucleotide_position_feature_strength[\"strength\"]\n",
    "                    )\n",
    "print(\"Max nucleotide position feature strength:\", max_nucleotide_position_feature_strength)"
   ]
  },
  {
   "cell_type": "code",
   "execution_count": 33,
   "metadata": {},
   "outputs": [],
   "source": [
    "xTe = load(f\"../data/xTe_ES7_HeLa_ABC.pkl.gz\")"
   ]
  },
  {
   "cell_type": "code",
   "execution_count": 34,
   "metadata": {},
   "outputs": [
    {
     "name": "stderr",
     "output_type": "stream",
     "text": [
      "100%|██████████| 47962/47962 [00:04<00:00, 11695.16it/s]\n"
     ]
    }
   ],
   "source": [
    "nts = [\"A\", \"C\", \"G\", \"T\"]\n",
    "xTe_seqs = np.array([\n",
    "    \"\".join([nts[np.where(one_hot == 1)[0].item()] for one_hot in row[10:80]]) for row in tqdm(xTe[0])\n",
    "])\n",
    "exons = xTe_seqs[np.random.rand(len(xTe[0])) < 0.01]"
   ]
  },
  {
   "cell_type": "code",
   "execution_count": 35,
   "metadata": {},
   "outputs": [
    {
     "name": "stderr",
     "output_type": "stream",
     "text": [
      "100%|██████████| 491/491 [04:39<00:00,  1.75it/s]\n"
     ]
    }
   ],
   "source": [
    "json_data = [None]*len(exons)\n",
    "i = 0\n",
    "for exon in tqdm(exons):\n",
    "    json_data[i] = get_vis_data(exon=exon, threshold=0.001)\n",
    "    i += 1"
   ]
  },
  {
   "cell_type": "code",
   "execution_count": 37,
   "metadata": {},
   "outputs": [
    {
     "name": "stdout",
     "output_type": "stream",
     "text": [
      "Delta strenth range: (-71.34475481672075, 101.65916478471968)\n",
      "Max class strength: 136.1594737751982\n",
      "Max feature strength: 61.950183892971836\n",
      "Max feature position strength: 15.874034881907232\n",
      "Max nucleotide position strength: 7.857531867787869\n",
      "Max nucleotide position feature strength: 5.3906272675376385\n"
     ]
    }
   ],
   "source": [
    "# Min and max of delta strength\n",
    "print(\"Delta strenth range:\", end=\" \")\n",
    "print((\n",
    "    min(exon_data[\"delta_force\"] for exon_data in json_data), \n",
    "    max(exon_data[\"delta_force\"] for exon_data in json_data)\n",
    "))\n",
    "\n",
    "# Max of class strength\n",
    "print(\"Max class strength:\", end=\" \")\n",
    "print(max(\n",
    "    max([exon_data[\"incl_strength\"] for exon_data in json_data]),\n",
    "    max([exon_data[\"skip_strength\"] for exon_data in json_data])\n",
    "))\n",
    "\n",
    "# Max of feature strength\n",
    "max_feature_strength = 0\n",
    "for exon_data in json_data:\n",
    "    for class_feature_activations in exon_data[\"feature_activations\"][\"children\"]:\n",
    "        for feature_strength in class_feature_activations[\"children\"]:\n",
    "            max_feature_strength = max(\n",
    "                max_feature_strength, sum_strength(feature_strength)\n",
    "            )\n",
    "print(\"Max feature strength:\", max_feature_strength)\n",
    "\n",
    "# Max of feature position strength\n",
    "max_feature_position_strength = 0\n",
    "for exon_data in json_data:\n",
    "    for class_feature_activations in exon_data[\"feature_activations\"][\"children\"]:\n",
    "        for feature_strength in class_feature_activations[\"children\"]:\n",
    "            if \"children\" not in feature_strength.keys():\n",
    "                continue\n",
    "            for feature_position_strength in feature_strength[\"children\"]:\n",
    "                max_feature_position_strength = max(\n",
    "                    max_feature_position_strength, feature_position_strength[\"strength\"]\n",
    "                )\n",
    "print(\"Max feature position strength:\", max_feature_position_strength)\n",
    "\n",
    "# Max of nucleotide position strength\n",
    "max_nucleotide_position_strength = 0\n",
    "for exon_data in json_data:\n",
    "    for class_nucleotide_activations in exon_data[\"nucleotide_activations\"][\"children\"]:\n",
    "        for nucleotide_strength in class_nucleotide_activations[\"children\"]:\n",
    "            for nucleotide_position_strength in nucleotide_strength[\"children\"]:\n",
    "                max_nucleotide_position_strength = max(\n",
    "                    max_nucleotide_position_strength, sum_strength(nucleotide_position_strength)\n",
    "                )\n",
    "print(\"Max nucleotide position strength:\", max_nucleotide_position_strength)\n",
    "\n",
    "# Max of nucleotide position feature strength\n",
    "max_nucleotide_position_feature_strength = 0\n",
    "for exon_data in json_data:\n",
    "    for class_nucleotide_activations in exon_data[\"nucleotide_activations\"][\"children\"]:\n",
    "        for nucleotide_strength in class_nucleotide_activations[\"children\"]:\n",
    "            for nucleotide_position_strength in nucleotide_strength[\"children\"]:\n",
    "                for nucleotide_position_feature_strength in nucleotide_position_strength[\"children\"]:\n",
    "                    max_nucleotide_position_feature_strength = max(\n",
    "                        max_nucleotide_position_feature_strength, \n",
    "                        nucleotide_position_feature_strength[\"strength\"]\n",
    "                    )\n",
    "print(\"Max nucleotide position feature strength:\", max_nucleotide_position_feature_strength)"
   ]
  },
  {
   "cell_type": "markdown",
   "metadata": {},
   "source": [
    "Delta strenth range: (-71.34475481672075, 101.65916478471968)       # (-120, 120)\n",
    "Max class strength: 136.1594737751982                               # 160\n",
    "Max feature strength: 61.950183892971836                            # 70\n",
    "Max feature position strength: 15.874034881907232                   # 20\n",
    "Max nucleotide position strength: 7.857531867787869                 # 10\n",
    "Max nucleotide position feature strength: 5.3906272675376385        # 6"
   ]
  }
 ],
 "metadata": {
  "kernelspec": {
   "display_name": "vis",
   "language": "python",
   "name": "python3"
  },
  "language_info": {
   "codemirror_mode": {
    "name": "ipython",
    "version": 3
   },
   "file_extension": ".py",
   "mimetype": "text/x-python",
   "name": "python",
   "nbconvert_exporter": "python",
   "pygments_lexer": "ipython3",
   "version": "3.10.14"
  }
 },
 "nbformat": 4,
 "nbformat_minor": 2
}
