{
 "cells": [
  {
   "cell_type": "code",
   "execution_count": 1,
   "metadata": {},
   "outputs": [],
   "source": [
    "%load_ext autoreload\n",
    "%autoreload 2\n",
    "\n",
    "import sys\n",
    "sys.path.append(\"../\")\n",
    "import os\n",
    "os.chdir(\"..\")\n",
    "import numpy as np\n",
    "import pandas as pd\n",
    "import matplotlib.pyplot as plt\n",
    "from tqdm import tqdm\n",
    "from tensorflow.keras.models import load_model, Model\n",
    "from tensorflow.keras import Input\n",
    "import src.quad_model\n",
    "from src.vis_data import get_vis_data\n",
    "from joblib import load"
   ]
  },
  {
   "cell_type": "code",
   "execution_count": 2,
   "metadata": {},
   "outputs": [],
   "source": [
    "def sum_strength(d):\n",
    "    if \"strength\" in d.keys():\n",
    "        return d[\"strength\"]\n",
    "    return sum([sum_strength(child) for child in d[\"children\"]])"
   ]
  },
  {
   "cell_type": "code",
   "execution_count": 5,
   "metadata": {},
   "outputs": [],
   "source": [
    "# Load exons\n",
    "exons = [\n",
    "    \"GAGUCCCGCUUACCAUUGCAUUUAAGAAAGAGGCCAUACGCCGCUAAGACCCUACUCUUCAGAAUACCAG\",\n",
    "    \"GAGUCCCGCUUACCAUUGCAUUUAAGAAAGCGGCCAUACGCCGCUAAGACCCUACUCUUCAGAAUACCAG\",\n",
    "    \"GUCUGACAGUACUACGCUAAUACUACGUAAACCAAAGCCAUAAUCCAAUUGACCUCCUUUUCAGGAAUUC\",\n",
    "    \"CCUUCCACGCCUCUCCCACUCGUUACACUCAGUUGCAGUAUGGUUAACACUCCACUAGGCCCCAGGAAUC\",\n",
    "    \"GAGUCCCGCUUACCAUUGCAUUUAAGAAAGAGGCCAUACGCCUCUAAGACCCUACUCUUCAGAAUACCAG\",\n",
    "    \"GAGUCCCGCUUACCAUUGCAUUUAAGAAAGAGGCCAUACGCCGCUAAGACCCUACUCUUCAGAAUACCAG\",\n",
    "]"
   ]
  },
  {
   "cell_type": "code",
   "execution_count": 6,
   "metadata": {},
   "outputs": [
    {
     "name": "stderr",
     "output_type": "stream",
     "text": [
      "  0%|          | 0/6 [00:00<?, ?it/s]"
     ]
    },
    {
     "name": "stderr",
     "output_type": "stream",
     "text": [
      " 33%|███▎      | 2/6 [00:01<00:02,  1.93it/s]"
     ]
    },
    {
     "name": "stdout",
     "output_type": "stream",
     "text": [
      "WARNING:tensorflow:5 out of the last 5 calls to <function Model.make_predict_function.<locals>.predict_function at 0x30fb0e8c0> triggered tf.function retracing. Tracing is expensive and the excessive number of tracings could be due to (1) creating @tf.function repeatedly in a loop, (2) passing tensors with different shapes, (3) passing Python objects instead of tensors. For (1), please define your @tf.function outside of the loop. For (2), @tf.function has reduce_retracing=True option that can avoid unnecessary retracing. For (3), please refer to https://www.tensorflow.org/guide/function#controlling_retracing and https://www.tensorflow.org/api_docs/python/tf/function for  more details.\n",
      "WARNING:tensorflow:6 out of the last 6 calls to <function Model.make_predict_function.<locals>.predict_function at 0x30fb0f370> triggered tf.function retracing. Tracing is expensive and the excessive number of tracings could be due to (1) creating @tf.function repeatedly in a loop, (2) passing tensors with different shapes, (3) passing Python objects instead of tensors. For (1), please define your @tf.function outside of the loop. For (2), @tf.function has reduce_retracing=True option that can avoid unnecessary retracing. For (3), please refer to https://www.tensorflow.org/guide/function#controlling_retracing and https://www.tensorflow.org/api_docs/python/tf/function for  more details.\n"
     ]
    },
    {
     "name": "stderr",
     "output_type": "stream",
     "text": [
      "100%|██████████| 6/6 [00:02<00:00,  2.26it/s]\n"
     ]
    }
   ],
   "source": [
    "# Get vis data\n",
    "json_data = [None]*len(exons)\n",
    "i = 0\n",
    "for exon in tqdm(exons):\n",
    "    json_data[i] = get_vis_data(exon=exon, threshold=0.001)\n",
    "    i += 1"
   ]
  },
  {
   "cell_type": "code",
   "execution_count": 34,
   "metadata": {},
   "outputs": [],
   "source": [
    "def get_visualization_statistic(json_data):\n",
    "    #` Min and max of delta strength\n",
    "    print(\"Predicted range:\", end=\" \")\n",
    "    print((\n",
    "        min(exon_data[\"predicted_psi\"] for exon_data in json_data), \n",
    "        max(exon_data[\"predicted_psi\"] for exon_data in json_data)\n",
    "    ))\n",
    "\n",
    "    #` Min and max of delta strength\n",
    "    print(\"Delta strenth range:\", end=\" \")\n",
    "    print((\n",
    "        min(exon_data[\"delta_force\"] for exon_data in json_data), \n",
    "        max(exon_data[\"delta_force\"] for exon_data in json_data)\n",
    "    ))\n",
    "\n",
    "    # Max of class strength\n",
    "    print(\"Max class strength:\", end=\" \")\n",
    "    print(max(\n",
    "        max([exon_data[\"incl_strength\"] for exon_data in json_data]),\n",
    "        max([exon_data[\"skip_strength\"] for exon_data in json_data])\n",
    "    ))\n",
    "\n",
    "    # Max of feature strength\n",
    "    max_feature_strength = 0\n",
    "    for exon_data in json_data:\n",
    "        for class_feature_activations in exon_data[\"feature_activations\"][\"children\"]:\n",
    "            for feature_strength in class_feature_activations[\"children\"]:\n",
    "                max_feature_strength = max(\n",
    "                    max_feature_strength, sum_strength(feature_strength)\n",
    "                )\n",
    "    print(\"Max feature strength:\", max_feature_strength)\n",
    "\n",
    "    # Max of feature position strength\n",
    "    max_feature_position_strength = 0\n",
    "    for exon_data in json_data:\n",
    "        for class_feature_activations in exon_data[\"feature_activations\"][\"children\"]:\n",
    "            for feature_strength in class_feature_activations[\"children\"]:\n",
    "                if \"children\" not in feature_strength.keys():\n",
    "                    continue\n",
    "                for feature_position_strength in feature_strength[\"children\"]:\n",
    "                    max_feature_position_strength = max(\n",
    "                        max_feature_position_strength, feature_position_strength[\"strength\"]\n",
    "                    )\n",
    "    print(\"Max feature position strength:\", max_feature_position_strength)\n",
    "\n",
    "    # Max of nucleotide position strength\n",
    "    max_nucleotide_position_strength = 0\n",
    "    for exon_data in json_data:\n",
    "        for class_nucleotide_activations in exon_data[\"nucleotide_activations\"][\"children\"]:\n",
    "            for nucleotide_strength in class_nucleotide_activations[\"children\"]:\n",
    "                for nucleotide_position_strength in nucleotide_strength[\"children\"]:\n",
    "                    max_nucleotide_position_strength = max(\n",
    "                        max_nucleotide_position_strength, sum_strength(nucleotide_position_strength)\n",
    "                    )\n",
    "    print(\"Max nucleotide position strength:\", max_nucleotide_position_strength)\n",
    "\n",
    "    # Max of nucleotide position feature strength\n",
    "    max_nucleotide_position_feature_strength = 0\n",
    "    for exon_data in json_data:\n",
    "        for class_nucleotide_activations in exon_data[\"nucleotide_activations\"][\"children\"]:\n",
    "            for nucleotide_strength in class_nucleotide_activations[\"children\"]:\n",
    "                for nucleotide_position_strength in nucleotide_strength[\"children\"]:\n",
    "                    for nucleotide_position_feature_strength in nucleotide_position_strength[\"children\"]:\n",
    "                        max_nucleotide_position_feature_strength = max(\n",
    "                            max_nucleotide_position_feature_strength, \n",
    "                            nucleotide_position_feature_strength[\"strength\"]\n",
    "                        )\n",
    "    print(\"Max nucleotide position feature strength:\", max_nucleotide_position_feature_strength)"
   ]
  },
  {
   "cell_type": "code",
   "execution_count": 7,
   "metadata": {},
   "outputs": [
    {
     "name": "stdout",
     "output_type": "stream",
     "text": [
      "Delta strenth range: (-13.908240915963916, 22.812916158010694)\n",
      "Max class strength: 86.02241516113281\n",
      "Max feature strength: 37.52738878960292\n",
      "Max feature position strength: 11.806382848973044\n",
      "Max nucleotide position strength: 3.7882057132961697\n",
      "Max nucleotide position feature strength: 3.7689620256641363\n"
     ]
    }
   ],
   "source": [
    "get_visualization_statistic(json_data)"
   ]
  },
  {
   "cell_type": "code",
   "execution_count": 4,
   "metadata": {},
   "outputs": [],
   "source": [
    "xTe = load(f\"data/xTe_ES7_HeLa_ABC.pkl.gz\")"
   ]
  },
  {
   "cell_type": "code",
   "execution_count": 31,
   "metadata": {},
   "outputs": [
    {
     "name": "stderr",
     "output_type": "stream",
     "text": [
      "100%|██████████| 47962/47962 [00:04<00:00, 11778.84it/s]\n"
     ]
    }
   ],
   "source": [
    "nts = [\"A\", \"C\", \"G\", \"T\"]\n",
    "xTe_seqs = np.array([\n",
    "    \"\".join([nts[np.where(one_hot == 1)[0].item()] for one_hot in row[10:80]]) for row in tqdm(xTe[0])\n",
    "])\n",
    "exons = xTe_seqs[np.random.rand(len(xTe[0])) < 0.01]"
   ]
  },
  {
   "cell_type": "code",
   "execution_count": 32,
   "metadata": {},
   "outputs": [
    {
     "name": "stderr",
     "output_type": "stream",
     "text": [
      "100%|██████████| 477/477 [04:18<00:00,  1.84it/s]\n"
     ]
    }
   ],
   "source": [
    "json_data = [None]*len(exons)\n",
    "i = 0\n",
    "for exon in tqdm(exons):\n",
    "    json_data[i] = get_vis_data(exon=exon, threshold=0.001, use_new_grouping=True)\n",
    "    i += 1"
   ]
  },
  {
   "cell_type": "code",
   "execution_count": 32,
   "metadata": {},
   "outputs": [
    {
     "name": "stdout",
     "output_type": "stream",
     "text": [
      "Predicted range: (6.1262649069249164e-06, 0.9865574836730957)\n",
      "Delta strenth range: (-99.51547968549517, 91.05603635149214)\n",
      "Max class strength: 140.66867065429688\n",
      "Max feature strength: 65.12019474210683\n",
      "Max feature position strength: 16.47538328600893\n",
      "Max nucleotide position strength: 8.657210330939556\n",
      "Max nucleotide position feature strength: 5.491794428669643\n"
     ]
    }
   ],
   "source": [
    "get_visualization_statistic(json_data)"
   ]
  },
  {
   "cell_type": "code",
   "execution_count": 35,
   "metadata": {},
   "outputs": [
    {
     "name": "stdout",
     "output_type": "stream",
     "text": [
      "Predicted range: (1.0487151484994683e-05, 0.9877551794052124)\n",
      "Delta strenth range: (-93.7439914957979, 105.08456075029585)\n",
      "Max class strength: 142.6853297932646\n",
      "Max feature strength: 71.3665307011663\n",
      "Max feature position strength: 17.437657018910976\n",
      "Max nucleotide position strength: 7.456638666000308\n",
      "Max nucleotide position feature strength: 5.812552339636992\n"
     ]
    }
   ],
   "source": [
    "get_visualization_statistic(json_data)"
   ]
  },
  {
   "cell_type": "code",
   "execution_count": 38,
   "metadata": {},
   "outputs": [
    {
     "name": "stdout",
     "output_type": "stream",
     "text": [
      "CCGCGACCGGAUUAAGAUGAAGGAACGAAGCAAUUGUCGAAUCUACUCUAAUCUGCUCGAAGAUCAGAAC\n",
      "AGAUGUCGAUCCCCAUUAAUCAACCCCUCUCCUUAUAUUAUCCCCAUAUUCACAAAACUGUUUGCUAAAA\n"
     ]
    }
   ],
   "source": [
    "# Max class strength\n",
    "for exon_data in json_data:\n",
    "    if exon_data[\"incl_strength\"] > 140:\n",
    "        print(exon_data[\"exon\"])\n",
    "        break\n",
    "\n",
    "for exon_data in json_data:\n",
    "    if exon_data[\"skip_strength\"] > 140:\n",
    "        print(exon_data[\"exon\"])\n",
    "        break"
   ]
  },
  {
   "cell_type": "code",
   "execution_count": 44,
   "metadata": {},
   "outputs": [
    {
     "name": "stdout",
     "output_type": "stream",
     "text": [
      "CCGCGACCGGAUUAAGAUGAAGGAACGAAGCAAUUGUCGAAUCUACUCUAAUCUGCUCGAAGAUCAGAAC\n",
      "CCACUCACCGCCGCCGGUGUCCUGGCAUACUCAUUAUCGCAACCCCGACGCGGCCCACUUGGGUCGCGGC\n"
     ]
    }
   ],
   "source": [
    "# Max of feature strength\n",
    "for exon_data in json_data:\n",
    "    for class_feature_activations in exon_data[\"feature_activations\"][\"children\"][:1]:\n",
    "        for feature_strength in class_feature_activations[\"children\"]:\n",
    "            if sum_strength(feature_strength) > 61:\n",
    "                print(exon_data[\"exon\"])\n",
    "                break\n",
    "\n",
    "for exon_data in json_data:\n",
    "    for class_feature_activations in exon_data[\"feature_activations\"][\"children\"][-1:]:\n",
    "        for feature_strength in class_feature_activations[\"children\"]:\n",
    "            if sum_strength(feature_strength) > 65:\n",
    "                print(exon_data[\"exon\"])\n",
    "                break"
   ]
  },
  {
   "cell_type": "code",
   "execution_count": 52,
   "metadata": {},
   "outputs": [
    {
     "name": "stdout",
     "output_type": "stream",
     "text": [
      "GUCUACUGCGUCACACACAGCGACCCUAAACGAACAACCCCUACGUGAAAGUUCAUCGACGACCGCGCCA\n",
      "CCCUAACACAACGUACAACAAUCCAAUAACCAUGAAUAUUGGCCUAACACGGUCACCAAGCUCGUCGGUU\n",
      "AGUCUCUUGGAAUCGCGCCCGACAUCUUACCAGUAAAAUCGGUGCUCCAGGGCCACGAUCUUCGACACCA\n",
      "GCUCGCAACCAGCCGCCUACCUAUUAAUUGUCUGUGCUCCAAGAAUUACAGCUAGCAAUUUAGGUACCAA\n"
     ]
    }
   ],
   "source": [
    "# Max of feature position strength\n",
    "for exon_data in json_data:\n",
    "    for class_feature_activations in exon_data[\"feature_activations\"][\"children\"][:1]:\n",
    "        for feature_strength in class_feature_activations[\"children\"]:\n",
    "            if \"children\" not in feature_strength.keys():\n",
    "                continue\n",
    "            for feature_position_strength in feature_strength[\"children\"]:\n",
    "                if feature_position_strength[\"strength\"] > 13:\n",
    "                    print(exon_data[\"exon\"])\n",
    "for exon_data in json_data:\n",
    "    for class_feature_activations in exon_data[\"feature_activations\"][\"children\"][-1:]:\n",
    "        for feature_strength in class_feature_activations[\"children\"]:\n",
    "            if \"children\" not in feature_strength.keys():\n",
    "                continue\n",
    "            for feature_position_strength in feature_strength[\"children\"]:\n",
    "                if feature_position_strength[\"strength\"] > 17:\n",
    "                    print(exon_data[\"exon\"])"
   ]
  },
  {
   "cell_type": "code",
   "execution_count": 45,
   "metadata": {},
   "outputs": [],
   "source": [
    "# Max of nucleotide position strength\n",
    "for exon_data in json_data:\n",
    "    for class_nucleotide_activations in exon_data[\"nucleotide_activations\"][\"children\"]:\n",
    "        for nucleotide_strength in class_nucleotide_activations[\"children\"]:\n",
    "            for nucleotide_position_strength in nucleotide_strength[\"children\"]:\n",
    "                if sum_strength(nucleotide_position_strength) > 17:\n",
    "                    print(exon_data[\"exon\"])"
   ]
  },
  {
   "cell_type": "markdown",
   "metadata": {},
   "source": [
    "Delta strenth range: (-71.34475481672075, 101.65916478471968)       # (-120, 120)\n",
    "Max class strength: 136.1594737751982                               # 160\n",
    "Max feature strength: 61.950183892971836                            # 70\n",
    "Max feature position strength: 15.874034881907232                   # 20\n",
    "Max nucleotide position strength: 7.857531867787869                 # 10\n",
    "Max nucleotide position feature strength: 5.3906272675376385        # 6"
   ]
  },
  {
   "cell_type": "code",
   "execution_count": 4,
   "metadata": {},
   "outputs": [],
   "source": [
    "# Load pretrained model\n",
    "model_file_name = f\"model/custom_adjacency_regularizer_20210731_124_step3.h5\"\n",
    "model = load_model(model_file_name)\n",
    "\n",
    "output_model = Model(outputs=model.outputs, inputs=[\n",
    "    model.get_layer('activity_regularization').input,\n",
    "    model.get_layer('activity_regularization_1').input,\n",
    "    model.get_layer('activity_regularization_2').input,\n",
    "    model.get_layer('activity_regularization_3').input\n",
    "])"
   ]
  },
  {
   "cell_type": "code",
   "execution_count": 5,
   "metadata": {},
   "outputs": [],
   "source": [
    "def delta_force_2_predicted_psi(delta_force):\n",
    "    act = np.zeros((1, 85, 20))\n",
    "    act_1 = np.zeros((1, 85, 20))\n",
    "    incl_act = np.zeros((1, 85, 28))\n",
    "    skip_act = np.zeros((1, 85, 28))\n",
    "    incl_act[0,0,0] = delta_force - 21.80809438066695\n",
    "    yTr_hat = np.reshape(output_model([act, act_1, incl_act, skip_act]), (-1,))\n",
    "    return yTr_hat.item()"
   ]
  },
  {
   "cell_type": "code",
   "execution_count": 8,
   "metadata": {},
   "outputs": [
    {
     "name": "stdout",
     "output_type": "stream",
     "text": [
      "Detla force = -100 | Predicted PSI = 0.000006\n",
      "Detla force =  -20 | Predicted PSI = 0.071174\n",
      "Detla force =  -10 | Predicted PSI = 0.232515\n",
      "Detla force =   -5 | Predicted PSI = 0.361840\n",
      "Detla force =    0 | Predicted PSI = 0.499993\n",
      "Detla force =    5 | Predicted PSI = 0.638148\n",
      "Detla force =   10 | Predicted PSI = 0.756705\n",
      "Detla force =   20 | Predicted PSI = 0.892360\n",
      "Detla force =  100 | Predicted PSI = 0.987334\n"
     ]
    }
   ],
   "source": [
    "for delta_force in [-100, -20, -10, -5, 0, 5, 10, 20, 100]:\n",
    "    print(f\"Detla force = {delta_force: 4} | Predicted PSI = {delta_force_2_predicted_psi(delta_force):.6f}\")"
   ]
  },
  {
   "cell_type": "code",
   "execution_count": 21,
   "metadata": {},
   "outputs": [],
   "source": [
    "def get_link_midpoint(link_function, midpoint=0.5, epsilon=1e-5, lb=-100, ub=100, max_iters=50):\n",
    "    \"\"\"\n",
    "    Assumes monotonicity and smoothness of link function\n",
    "    \"\"\"\n",
    "    iters = 0\n",
    "    while iters < max_iters:\n",
    "        xx = np.linspace(lb, ub, 1000)\n",
    "        yy = link_function(xx[:, None]).numpy().flatten()\n",
    "\n",
    "        if min(np.abs(yy - midpoint)) < epsilon:\n",
    "            return xx[np.abs(yy - midpoint) < epsilon][0]\n",
    "        lb_idx = np.where((yy - midpoint) < 0)[0][-1]\n",
    "        ub_idx = np.where((yy - midpoint) > 0)[0][0]\n",
    "\n",
    "        lb = xx[lb_idx]\n",
    "        ub = xx[ub_idx]\n",
    "\n",
    "        iters += 1\n",
    "    raise RuntimeError(f\"Max iterations ({max_iters}) reached without solution...\")\n",
    "\n",
    "def get_model_midpoint(model, midpoint=0.5):    \n",
    "    \"\"\" \n",
    "    Compute the midpoint using the model\"s link function. This is the negation of the basal strength. \n",
    "    I.e., positive value corresponds to a skipping basal strength. \n",
    "    \"\"\"\n",
    "    link_input = Input(shape=(1,))\n",
    "    w = model.get_layer(\"energy_seq_struct\").w.numpy()\n",
    "    b = model.get_layer(\"energy_seq_struct\").b.numpy()\n",
    "    link_output = model.get_layer(\"output_activation\")(model.get_layer(\"gen_func\")(w*link_input + b))\n",
    "    link_function = Model(inputs=link_input, outputs=link_output)\n",
    "    return get_link_midpoint(link_function, midpoint)\n",
    "\n",
    "def predicted_psi_2_delta_force(predicted_psi):\n",
    "    return get_model_midpoint(model, midpoint=predicted_psi) + 21.80809438066695"
   ]
  },
  {
   "cell_type": "code",
   "execution_count": 30,
   "metadata": {},
   "outputs": [
    {
     "name": "stdout",
     "output_type": "stream",
     "text": [
      "Predicted PSI = 0.0833 | Detla force = -18.757496234973715\n",
      "Predicted PSI = 0.2917 | Detla force = -7.767928088248407\n",
      "Predicted PSI = 0.5000 | Detla force =  0.0\n",
      "Predicted PSI = 0.7083 | Detla force =  7.819431042654276\n",
      "Predicted PSI = 0.9167 | Detla force =  23.07392477562648\n"
     ]
    }
   ],
   "source": [
    "for predicted_psi in np.linspace(20/240, 1-20/240, 5):\n",
    "    print(f\"Predicted PSI = {predicted_psi:.4f} | Detla force = {predicted_psi_2_delta_force(predicted_psi): 4}\")"
   ]
  }
 ],
 "metadata": {
  "kernelspec": {
   "display_name": "vis",
   "language": "python",
   "name": "python3"
  },
  "language_info": {
   "codemirror_mode": {
    "name": "ipython",
    "version": 3
   },
   "file_extension": ".py",
   "mimetype": "text/x-python",
   "name": "python",
   "nbconvert_exporter": "python",
   "pygments_lexer": "ipython3",
   "version": "3.10.14"
  }
 },
 "nbformat": 4,
 "nbformat_minor": 2
}
