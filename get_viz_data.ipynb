{
 "cells": [
  {
   "cell_type": "markdown",
   "metadata": {},
   "source": [
    "# Generate and visualize filter strengths\n",
    "\n",
    "_Author: Nhi Nguyen_"
   ]
  },
  {
   "cell_type": "code",
   "execution_count": 1,
   "metadata": {},
   "outputs": [],
   "source": [
    "%load_ext autoreload\n",
    "%autoreload 2"
   ]
  },
  {
   "cell_type": "markdown",
   "metadata": {},
   "source": [
    "## 1. Generate and save filter strengths"
   ]
  },
  {
   "cell_type": "code",
   "execution_count": 2,
   "metadata": {},
   "outputs": [
    {
     "name": "stdout",
     "output_type": "stream",
     "text": [
      "1/1 [==============================] - 0s 82ms/step\n",
      "1/1 [==============================] - 0s 104ms/step\n",
      "1/1 [==============================] - 0s 12ms/step\n",
      "1/1 [==============================] - 0s 13ms/step\n",
      "1/1 [==============================] - 0s 12ms/step\n",
      "1/1 [==============================] - 0s 12ms/step\n"
     ]
    }
   ],
   "source": [
    "from src.get_viz_data import get_deciphering_rna_splicing_data\n",
    "exons = [\n",
    "    'GCGGCACCTACTACAATGTCCCCCGCTGCATACACTCGGAGCCAATAGGGCGCCTATAGAGTGTAGTCCT',\n",
    "    'TCGCACCGCAGGTTCGGTTTTTTGGTATAATACGCGGCACTCCAAAATTACTCTGGGGCACCCTCACCAG',\n",
    "    'GCCCGAAAGCTCCCTACTGCAGTTTACGACCCTTAAGGCTTGGGTGCTCTTACGCGCTGATCGATATAAG',\n",
    "    'CCCTACCCGCCCTCGTCCCCAGGACACCCTTTCCGCCGCAAGTTATCCGCCAAGTACACAACTTAATGGT',\n",
    "    'GGTGTCCCCCACTATCGACCTCATCAGTAATCAATCCGAGCGACCGCCTCATCCCAAAGGCACACGTCCA'\n",
    "]\n",
    "csv_file = \"data/deciphering_rna_splicing.csv\"\n",
    "csv_data = get_deciphering_rna_splicing_data(exons=exons, csv_file=csv_file)"
   ]
  },
  {
   "cell_type": "markdown",
   "metadata": {},
   "source": [
    "## 2. Load and visualize filter strengths"
   ]
  },
  {
   "cell_type": "code",
   "execution_count": 3,
   "metadata": {},
   "outputs": [
    {
     "name": "stdout",
     "output_type": "stream",
     "text": [
      "(450, 25)\n"
     ]
    },
    {
     "data": {
      "text/html": [
       "<div>\n",
       "<style scoped>\n",
       "    .dataframe tbody tr th:only-of-type {\n",
       "        vertical-align: middle;\n",
       "    }\n",
       "\n",
       "    .dataframe tbody tr th {\n",
       "        vertical-align: top;\n",
       "    }\n",
       "\n",
       "    .dataframe thead th {\n",
       "        text-align: right;\n",
       "    }\n",
       "</style>\n",
       "<table border=\"1\" class=\"dataframe\">\n",
       "  <thead>\n",
       "    <tr style=\"text-align: right;\">\n",
       "      <th></th>\n",
       "      <th>exon_id</th>\n",
       "      <th>exon</th>\n",
       "      <th>position</th>\n",
       "      <th>predicted_psi</th>\n",
       "      <th>delta_force</th>\n",
       "      <th>incl_bias</th>\n",
       "      <th>skip_bias</th>\n",
       "      <th>incl_1</th>\n",
       "      <th>incl_2</th>\n",
       "      <th>incl_3</th>\n",
       "      <th>...</th>\n",
       "      <th>skip_7</th>\n",
       "      <th>skip_8</th>\n",
       "      <th>skip_9</th>\n",
       "      <th>skip_11</th>\n",
       "      <th>skip_10</th>\n",
       "      <th>skip_12</th>\n",
       "      <th>skip_p</th>\n",
       "      <th>skip_s</th>\n",
       "      <th>skip_dot</th>\n",
       "      <th>skip_blank</th>\n",
       "    </tr>\n",
       "  </thead>\n",
       "  <tbody>\n",
       "    <tr>\n",
       "      <th>0</th>\n",
       "      <td>0</td>\n",
       "      <td>GCGGCACCTACTACAATGTCCCCCGCTGCATACACTCGGAGCCAAT...</td>\n",
       "      <td>0</td>\n",
       "      <td>0.113966</td>\n",
       "      <td>-16.232149</td>\n",
       "      <td>21.808094</td>\n",
       "      <td>0</td>\n",
       "      <td>0.000000e+00</td>\n",
       "      <td>0.000000e+00</td>\n",
       "      <td>0.000000e+00</td>\n",
       "      <td>...</td>\n",
       "      <td>0.000000e+00</td>\n",
       "      <td>0.000000e+00</td>\n",
       "      <td>0.000000e+00</td>\n",
       "      <td>0.000000e+00</td>\n",
       "      <td>0.000000e+00</td>\n",
       "      <td>0.000000e+00</td>\n",
       "      <td>0.000000</td>\n",
       "      <td>0.000000</td>\n",
       "      <td>0.000000e+00</td>\n",
       "      <td>0.000000e+00</td>\n",
       "    </tr>\n",
       "    <tr>\n",
       "      <th>1</th>\n",
       "      <td>0</td>\n",
       "      <td>GCGGCACCTACTACAATGTCCCCCGCTGCATACACTCGGAGCCAAT...</td>\n",
       "      <td>1</td>\n",
       "      <td>0.000000</td>\n",
       "      <td>0.000000</td>\n",
       "      <td>0.000000</td>\n",
       "      <td>0</td>\n",
       "      <td>0.000000e+00</td>\n",
       "      <td>0.000000e+00</td>\n",
       "      <td>0.000000e+00</td>\n",
       "      <td>...</td>\n",
       "      <td>0.000000e+00</td>\n",
       "      <td>0.000000e+00</td>\n",
       "      <td>0.000000e+00</td>\n",
       "      <td>0.000000e+00</td>\n",
       "      <td>0.000000e+00</td>\n",
       "      <td>0.000000e+00</td>\n",
       "      <td>0.000000</td>\n",
       "      <td>0.000000</td>\n",
       "      <td>0.000000e+00</td>\n",
       "      <td>0.000000e+00</td>\n",
       "    </tr>\n",
       "    <tr>\n",
       "      <th>2</th>\n",
       "      <td>0</td>\n",
       "      <td>GCGGCACCTACTACAATGTCCCCCGCTGCATACACTCGGAGCCAAT...</td>\n",
       "      <td>2</td>\n",
       "      <td>0.000000</td>\n",
       "      <td>0.000000</td>\n",
       "      <td>0.000000</td>\n",
       "      <td>0</td>\n",
       "      <td>2.406730e-05</td>\n",
       "      <td>3.051553e-07</td>\n",
       "      <td>2.134268e-06</td>\n",
       "      <td>...</td>\n",
       "      <td>1.473838e-07</td>\n",
       "      <td>3.248956e-07</td>\n",
       "      <td>1.168151e-15</td>\n",
       "      <td>3.718131e-07</td>\n",
       "      <td>0.000000e+00</td>\n",
       "      <td>1.328008e-08</td>\n",
       "      <td>0.006624</td>\n",
       "      <td>0.007988</td>\n",
       "      <td>1.411970e-07</td>\n",
       "      <td>2.861605e-10</td>\n",
       "    </tr>\n",
       "    <tr>\n",
       "      <th>3</th>\n",
       "      <td>0</td>\n",
       "      <td>GCGGCACCTACTACAATGTCCCCCGCTGCATACACTCGGAGCCAAT...</td>\n",
       "      <td>3</td>\n",
       "      <td>0.000000</td>\n",
       "      <td>0.000000</td>\n",
       "      <td>0.000000</td>\n",
       "      <td>0</td>\n",
       "      <td>6.198072e-07</td>\n",
       "      <td>8.393712e-07</td>\n",
       "      <td>1.181085e-07</td>\n",
       "      <td>...</td>\n",
       "      <td>1.388681e-07</td>\n",
       "      <td>5.003432e-11</td>\n",
       "      <td>4.009794e-07</td>\n",
       "      <td>3.432117e-08</td>\n",
       "      <td>1.185070e-11</td>\n",
       "      <td>6.520578e-09</td>\n",
       "      <td>0.002541</td>\n",
       "      <td>0.000917</td>\n",
       "      <td>1.306813e-07</td>\n",
       "      <td>6.451252e-09</td>\n",
       "    </tr>\n",
       "    <tr>\n",
       "      <th>4</th>\n",
       "      <td>0</td>\n",
       "      <td>GCGGCACCTACTACAATGTCCCCCGCTGCATACACTCGGAGCCAAT...</td>\n",
       "      <td>4</td>\n",
       "      <td>0.000000</td>\n",
       "      <td>0.000000</td>\n",
       "      <td>0.000000</td>\n",
       "      <td>0</td>\n",
       "      <td>4.109646e-12</td>\n",
       "      <td>6.462889e-10</td>\n",
       "      <td>4.176614e-07</td>\n",
       "      <td>...</td>\n",
       "      <td>3.128267e-08</td>\n",
       "      <td>1.709166e-06</td>\n",
       "      <td>5.777560e-06</td>\n",
       "      <td>4.492362e-08</td>\n",
       "      <td>8.704890e-08</td>\n",
       "      <td>3.743523e-10</td>\n",
       "      <td>0.015760</td>\n",
       "      <td>0.000014</td>\n",
       "      <td>5.997204e-08</td>\n",
       "      <td>5.870180e-09</td>\n",
       "    </tr>\n",
       "  </tbody>\n",
       "</table>\n",
       "<p>5 rows × 25 columns</p>\n",
       "</div>"
      ],
      "text/plain": [
       "   exon_id                                               exon  position  \\\n",
       "0        0  GCGGCACCTACTACAATGTCCCCCGCTGCATACACTCGGAGCCAAT...         0   \n",
       "1        0  GCGGCACCTACTACAATGTCCCCCGCTGCATACACTCGGAGCCAAT...         1   \n",
       "2        0  GCGGCACCTACTACAATGTCCCCCGCTGCATACACTCGGAGCCAAT...         2   \n",
       "3        0  GCGGCACCTACTACAATGTCCCCCGCTGCATACACTCGGAGCCAAT...         3   \n",
       "4        0  GCGGCACCTACTACAATGTCCCCCGCTGCATACACTCGGAGCCAAT...         4   \n",
       "\n",
       "   predicted_psi  delta_force  incl_bias  skip_bias        incl_1  \\\n",
       "0       0.113966   -16.232149  21.808094          0  0.000000e+00   \n",
       "1       0.000000     0.000000   0.000000          0  0.000000e+00   \n",
       "2       0.000000     0.000000   0.000000          0  2.406730e-05   \n",
       "3       0.000000     0.000000   0.000000          0  6.198072e-07   \n",
       "4       0.000000     0.000000   0.000000          0  4.109646e-12   \n",
       "\n",
       "         incl_2        incl_3  ...        skip_7        skip_8        skip_9  \\\n",
       "0  0.000000e+00  0.000000e+00  ...  0.000000e+00  0.000000e+00  0.000000e+00   \n",
       "1  0.000000e+00  0.000000e+00  ...  0.000000e+00  0.000000e+00  0.000000e+00   \n",
       "2  3.051553e-07  2.134268e-06  ...  1.473838e-07  3.248956e-07  1.168151e-15   \n",
       "3  8.393712e-07  1.181085e-07  ...  1.388681e-07  5.003432e-11  4.009794e-07   \n",
       "4  6.462889e-10  4.176614e-07  ...  3.128267e-08  1.709166e-06  5.777560e-06   \n",
       "\n",
       "        skip_11       skip_10       skip_12    skip_p    skip_s      skip_dot  \\\n",
       "0  0.000000e+00  0.000000e+00  0.000000e+00  0.000000  0.000000  0.000000e+00   \n",
       "1  0.000000e+00  0.000000e+00  0.000000e+00  0.000000  0.000000  0.000000e+00   \n",
       "2  3.718131e-07  0.000000e+00  1.328008e-08  0.006624  0.007988  1.411970e-07   \n",
       "3  3.432117e-08  1.185070e-11  6.520578e-09  0.002541  0.000917  1.306813e-07   \n",
       "4  4.492362e-08  8.704890e-08  3.743523e-10  0.015760  0.000014  5.997204e-08   \n",
       "\n",
       "     skip_blank  \n",
       "0  0.000000e+00  \n",
       "1  0.000000e+00  \n",
       "2  2.861605e-10  \n",
       "3  6.451252e-09  \n",
       "4  5.870180e-09  \n",
       "\n",
       "[5 rows x 25 columns]"
      ]
     },
     "execution_count": 3,
     "metadata": {},
     "output_type": "execute_result"
    }
   ],
   "source": [
    "import pandas as pd\n",
    "csv_data = pd.read_csv(\"data/deciphering_rna_splicing.csv\")\n",
    "print(csv_data.shape)\n",
    "csv_data.head()"
   ]
  },
  {
   "cell_type": "code",
   "execution_count": 4,
   "metadata": {},
   "outputs": [
    {
     "name": "stdout",
     "output_type": "stream",
     "text": [
      "(90, 25)\n",
      "GCGGCACCUACUACAAUGUCCCCCGCUGCAUACACUCGGAGCCAAUAGGGCGCCUAUAGAGUGUAGUCCU\n"
     ]
    }
   ],
   "source": [
    "exon_id = 0\n",
    "data = csv_data[csv_data[\"exon_id\"] == exon_id]\n",
    "print(data.shape)\n",
    "exon = data['exon'].iloc[0]\n",
    "exon = exon.replace(\"T\", \"U\")\n",
    "print(exon)"
   ]
  },
  {
   "cell_type": "markdown",
   "metadata": {},
   "source": [
    "## Example: Plots"
   ]
  },
  {
   "cell_type": "code",
   "execution_count": 5,
   "metadata": {},
   "outputs": [],
   "source": [
    "import matplotlib.pyplot as plt\n",
    "from src.figutils import add_flanking\n",
    "\n",
    "FILTER_NAMES = {\n",
    "    \"incl_bias\": \"B\", \"skip_bias\": \"B\",\n",
    "    \"incl_1\": 1, \"incl_2\": 2, \"incl_3\": 3, \"incl_4\": 4, \"incl_5\": 5, \"incl_6\": 6,\n",
    "    \"skip_7\": 7, \"skip_8\": 8, \"skip_9\": 9, \"skip_10\": 10, \"skip_11\": 11, \"skip_12\": 12, \n",
    "    \"skip_s\": \"S\", \"skip_p\": \"P\" ,\n",
    "    # \"incl_7\": \"7\", \"incl_struct_1\": \"1s\", \"skip_blank\": \"_\", \"skip_dot\": \".\"\n",
    "}"
   ]
  },
  {
   "cell_type": "code",
   "execution_count": 6,
   "metadata": {},
   "outputs": [
    {
     "data": {
      "image/png": "[encoded data removed]",
      "text/plain": [
       "<Figure size 2000x600 with 2 Axes>"
      ]
     },
     "metadata": {},
     "output_type": "display_data"
    }
   ],
   "source": [
    "# Get data\n",
    "positions = data['position']\n",
    "incl_position_forces = data.iloc[:,7:15]\n",
    "incl_position_forces_cumsum = incl_position_forces.cumsum(axis=1)\n",
    "skip_position_forces = data.iloc[:,15:]\n",
    "skip_position_forces_cumsum = skip_position_forces.cumsum(axis=1)\n",
    "\n",
    "# Set up figures\n",
    "fig, axes = plt.subplots(2, figsize=(20, 6))\n",
    "axes[0].set_ylim((0, 15))\n",
    "axes[0].set_xticks(positions)\n",
    "axes[0].set_xticklabels(add_flanking(exon, 10))\n",
    "axes[1].set_ylim((0, 15))\n",
    "axes[1].invert_yaxis()\n",
    "axes[1].set_xticks([])\n",
    "axes[1].spines['top'].set_visible(True)\n",
    "axes[1].spines['bottom'].set_visible(False)\n",
    "\n",
    "# Plot\n",
    "axes[0].bar(positions, incl_position_forces.iloc[:,0], color='#c5d6fb', edgecolor='#6b6b6b')\n",
    "for pos in positions:\n",
    "    if incl_position_forces.iloc[pos,0] > 1:\n",
    "        axes[0].annotate(FILTER_NAMES[incl_position_forces.iloc[:,0].name], \n",
    "                         (pos, incl_position_forces_cumsum.iloc[pos,0] - incl_position_forces.iloc[pos,0]/2), \n",
    "                            ha='center', va='center', fontsize=10)\n",
    "for i in range(1, incl_position_forces.shape[1]):\n",
    "    column = incl_position_forces.iloc[:,i].name\n",
    "    filter = FILTER_NAMES[column] if column in FILTER_NAMES.keys() else \"\"\n",
    "    axes[0].bar(positions, incl_position_forces.iloc[:,i], \n",
    "                bottom=incl_position_forces_cumsum.iloc[:,i-1], color='#c5d6fb', edgecolor='#6b6b6b')\n",
    "    for pos in positions:\n",
    "        if incl_position_forces.iloc[pos,i] > 1:\n",
    "            axes[0].annotate(filter, \n",
    "                             (pos, incl_position_forces_cumsum.iloc[pos,i] - incl_position_forces.iloc[pos,i]/2), \n",
    "                             ha='center', va='center', fontsize=10)\n",
    "axes[1].bar(positions, skip_position_forces.iloc[:,0], color='#f6c3c2', edgecolor='#6b6b6b')\n",
    "for pos in positions:\n",
    "    if skip_position_forces.iloc[pos,0] > 1:\n",
    "        axes[1].annotate(FILTER_NAMES[skip_position_forces.iloc[:,0].name], \n",
    "                         (pos, skip_position_forces_cumsum.iloc[pos,0] - skip_position_forces.iloc[pos,0]/2), \n",
    "                            ha='center', va='center', fontsize=10)\n",
    "for i in range(1, skip_position_forces.shape[1]):\n",
    "    column = skip_position_forces.iloc[:,i].name\n",
    "    filter = FILTER_NAMES[column] if column in FILTER_NAMES.keys() else \"\"\n",
    "    axes[1].bar(positions, skip_position_forces.iloc[:,i], \n",
    "                bottom=skip_position_forces_cumsum.iloc[:,i-1], color='#f6c3c2', edgecolor='#6b6b6b')\n",
    "    for pos in positions:\n",
    "        if skip_position_forces.iloc[pos,i] > 1:\n",
    "            axes[1].annotate(filter, \n",
    "                             (pos, skip_position_forces_cumsum.iloc[pos,i] - skip_position_forces.iloc[pos,i]/2), \n",
    "                             ha='center', va='center', fontsize=10)\n",
    "plt.show()"
   ]
  },
  {
   "cell_type": "code",
   "execution_count": 7,
   "metadata": {},
   "outputs": [
    {
     "data": {
      "image/png": "[encoded data removed]",
      "text/plain": [
       "<Figure size 200x500 with 1 Axes>"
      ]
     },
     "metadata": {},
     "output_type": "display_data"
    }
   ],
   "source": [
    "# Get data\n",
    "incl_forces = data.iloc[:,5:15].sum(axis=0).sort_values(ascending=False)\n",
    "incl_forces_cumsum = incl_forces.cumsum()\n",
    "skip_forces = data.iloc[:,15:].sum(axis=0).sort_values(ascending=False)\n",
    "skip_forces_cumsum = skip_forces.cumsum()\n",
    "\n",
    "# Set up figures\n",
    "fig, ax = plt.subplots(figsize=(2, 5))\n",
    "ax.set_ylim((0, 100))\n",
    "ax.set_ylabel(\"Strength\")\n",
    "ax.set_xlim((-1, 1))\n",
    "ax.set_xticklabels([])\n",
    "ax.set_xticks([])\n",
    "ax.grid(axis='y', which='both', zorder=0)\n",
    "ax.spines['right'].set_visible(True)\n",
    "\n",
    "# Plot\n",
    "for i in range(len(incl_forces)):\n",
    "    ax.bar([-0.5], incl_forces_cumsum[i], color='#c5d6fb', edgecolor='#6b6b6b', zorder=20-i)\n",
    "    if incl_forces[i] > 7 and incl_forces.keys()[i] in FILTER_NAMES.keys():\n",
    "        ax.annotate(FILTER_NAMES[incl_forces.keys()[i]], (-0.5, incl_forces_cumsum[i]-incl_forces[i]/2), \n",
    "                    ha='center', va='center', zorder=20)\n",
    "for i in range(len(skip_forces)):\n",
    "    ax.bar([0.5], skip_forces_cumsum[i], color='#f6c3c2', edgecolor='#6b6b6b', zorder=20-i)\n",
    "    if skip_forces[i] > 7 and skip_forces.keys()[i] in FILTER_NAMES.keys():\n",
    "        ax.annotate(FILTER_NAMES[skip_forces.keys()[i]], (0.5, skip_forces_cumsum[i]-skip_forces[i]/2),\n",
    "                    ha='center', va='center', zorder=20)\n",
    "plt.show()"
   ]
  },
  {
   "cell_type": "code",
   "execution_count": 8,
   "metadata": {},
   "outputs": [
    {
     "data": {
      "image/png": "[encoded data removed]",
      "text/plain": [
       "<Figure size 200x500 with 1 Axes>"
      ]
     },
     "metadata": {},
     "output_type": "display_data"
    }
   ],
   "source": [
    "# Get data\n",
    "delta_force = data['delta_force'].iloc[0]\n",
    "predicted_psi = data['predicted_psi'].iloc[0]\n",
    "\n",
    "# Set up figures\n",
    "fig, ax = plt.subplots(figsize=(2, 5))\n",
    "ax.set_ylim((-20, 20))\n",
    "ax.set_ylabel(\"$\\Delta$ strength\")\n",
    "ax.set_xlim((-1, 1))\n",
    "ax.plot([-1,1],[0,0],color='#6b6b6b',linewidth=1)\n",
    "ax.set_xticklabels([])\n",
    "ax.set_xticks([])\n",
    "ax.grid(axis='y', which='both', zorder=0)\n",
    "ax.spines['right'].set_visible(True)\n",
    "\n",
    "# Plot\n",
    "ax.bar([0], [delta_force], color='#dad7cd', edgecolor='#6b6b6b', zorder=2)\n",
    "ax.set_title(f\"predicted\\nPSI = {predicted_psi:.4f}\")\n",
    "plt.show()"
   ]
  }
 ],
 "metadata": {
  "kernelspec": {
   "display_name": "Python 3",
   "language": "python",
   "name": "python3"
  },
  "language_info": {
   "codemirror_mode": {
    "name": "ipython",
    "version": 3
   },
   "file_extension": ".py",
   "mimetype": "text/x-python",
   "name": "python",
   "nbconvert_exporter": "python",
   "pygments_lexer": "ipython3",
   "version": "3.10.4"
  }
 },
 "nbformat": 4,
 "nbformat_minor": 2
}
